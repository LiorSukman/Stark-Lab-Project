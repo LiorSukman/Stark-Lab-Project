{
 "cells": [
  {
   "cell_type": "code",
   "execution_count": 1,
   "metadata": {},
   "outputs": [],
   "source": [
    "import sys\n",
    "import pandas as pd\n",
    "import numpy as np\n",
    "import scipy.stats as stats\n",
    "\n",
    "from constants import MORPHOLOGICAL, TEMPORAL, SPATIAL, feature_names_org"
   ]
  },
  {
   "cell_type": "code",
   "execution_count": 2,
   "metadata": {},
   "outputs": [],
   "source": [
    "NUM_MOMENTS = 5"
   ]
  },
  {
   "cell_type": "code",
   "execution_count": 3,
   "metadata": {},
   "outputs": [],
   "source": [
    "pd.options.display.max_columns = 500\n",
    "pd.options.display.max_rows = 500"
   ]
  },
  {
   "cell_type": "code",
   "execution_count": null,
   "metadata": {
    "scrolled": true
   },
   "outputs": [],
   "source": [
    "imps = np.load('ml/raw_imps_rf_290322_fix_imp.npy')\n",
    "\n",
    "PATH = 'ml/results_rf_combined.csv'\n",
    "BASE = 'ml/results_rf_combined_chance_balanced.csv'\n",
    "\n",
    "df = pd.read_csv(PATH, index_col=0)\n",
    "df = df[df.restriction == 'complete']\n",
    " \n",
    "df_base = pd.read_csv(BASE, index_col=0)\n",
    "df_base = df_base[df_base.restriction == 'complete']"
   ]
  },
  {
   "cell_type": "code",
   "execution_count": null,
   "metadata": {},
   "outputs": [],
   "source": [
    "def get_family_imp(inds, arr):\n",
    "    arr_m = abs(arr[:, :, inds].sum(axis=2))\n",
    "    fam_imps = arr_m[~np.isnan(arr_m)].reshape((arr.shape[0], -1)).mean(axis=1)\n",
    "    return fam_imps\n",
    "\n",
    "def names2inds(d_names, n2i_map):\n",
    "    d_inds = dict()\n",
    "    for key in d_names:\n",
    "        temp_inds = [n2i_map.index(name) for name in d_names[key]]\n",
    "        d_inds[key] = temp_inds\n",
    "    return d_inds"
   ]
  },
  {
   "cell_type": "markdown",
   "metadata": {},
   "source": [
    "## Spatial"
   ]
  },
  {
   "cell_type": "code",
   "execution_count": null,
   "metadata": {},
   "outputs": [],
   "source": [
    "spatial_df = df[df.chunk_size == 25]\n",
    "spatial_df = spatial_df[spatial_df.modality == 'spatial']\n",
    "spatial_imps = imps[1::3 * 8,:, :]\n",
    "\n",
    "spatial_df = spatial_df.dropna(how='all', axis=1)\n",
    "keep = [f'test feature {i+1}' for i in SPATIAL[:-1]]\n",
    "drop = [c for c in spatial_df.columns if c not in keep]\n",
    "spatial_df = spatial_df.drop(columns=drop)\n",
    "\n",
    "mapper = {f'test feature {i+1}': feature_names_org[i] for i in SPATIAL[:-1]}\n",
    "spatial_df = spatial_df.rename(columns=mapper)"
   ]
  },
  {
   "cell_type": "code",
   "execution_count": null,
   "metadata": {},
   "outputs": [],
   "source": [
    "spatial_df.describe()"
   ]
  },
  {
   "cell_type": "code",
   "execution_count": null,
   "metadata": {},
   "outputs": [],
   "source": [
    "spatial_df_base = df_base[df_base.chunk_size == 25]\n",
    "spatial_df_base = spatial_df_base[spatial_df_base.modality == 'spatial']\n",
    "\n",
    "keep = [f'test feature {i+1}' for i in SPATIAL[:-1]]\n",
    "drop = [c for c in spatial_df_base.columns if c not in keep]\n",
    "\n",
    "spatial_df_base = spatial_df_base.drop(columns=drop)\n",
    "spatial_df_base = spatial_df_base.dropna(how='all', axis=1)\n",
    "spatial_df_base = spatial_df_base.rename(columns=mapper)\n",
    "\n",
    "for col in spatial_df.columns:\n",
    "    col_test = spatial_df[col].to_numpy()\n",
    "    col_base = spatial_df_base[col].to_numpy()\n",
    "    \n",
    "    test_median, test_prec25, test_prec75 = np.percentile(col_test, [50, 25, 75])\n",
    "    base_median, base_prec25, base_prec75 = np.percentile(col_base, [50, 25, 75])\n",
    "    \n",
    "    print(f\"Median of test {col} column is {test_median} [{test_prec25}, {test_prec75}]\")\n",
    "    print(f\"Median of base {col} column is {base_median} [{base_prec25}, {base_prec75}]\")\n",
    "    \n",
    "    statistic, p_val = stats.mannwhitneyu(col_test, col_base, alternative='greater')\n",
    "    print(f\"Mann-Whitney statistical test results for feature {col} are p-value={p_val} (statistic={statistic})\")\n",
    "    print()"
   ]
  },
  {
   "cell_type": "code",
   "execution_count": null,
   "metadata": {},
   "outputs": [],
   "source": [
    "spatial_families = {'value-based': ['spatial_dispersion_count', 'spatial_dispersion_sd', 'spatial_dispersion_area'],\n",
    "                  'time-based': ['dep_red', 'dep_sd','fzc_red', 'fzc_sd', 'szc_red', 'szc_sd'],\n",
    "                  'graph-based': ['dep_graph_avg_speed', 'dep_graph_slowest_path', 'dep_graph_fastest_path',\n",
    "                           'fzc_graph_avg_speed', 'fzc_graph_slowest_path', 'fzc_graph_fastest_path',\n",
    "                           'szc_graph_avg_speed', 'szc_graph_slowest_path', 'szc_graph_fastest_path']}\n",
    "\n",
    "for fam in spatial_families:\n",
    "    spatial_df[fam] = spatial_df[spatial_families[fam]].sum(axis=1)"
   ]
  },
  {
   "cell_type": "code",
   "execution_count": null,
   "metadata": {},
   "outputs": [],
   "source": [
    "spatial_fams_df = spatial_df[[fam for fam in spatial_families]]\n",
    "spatial_fams_df.describe()"
   ]
  },
  {
   "cell_type": "code",
   "execution_count": null,
   "metadata": {},
   "outputs": [],
   "source": [
    "spatial_families_inds = names2inds(spatial_families, feature_names_org)\n",
    "\n",
    "for fam in spatial_families_inds:\n",
    "    spatial_df[f'{fam}_up'] = get_family_imp(spatial_families_inds[fam], spatial_imps)"
   ]
  },
  {
   "cell_type": "code",
   "execution_count": null,
   "metadata": {},
   "outputs": [],
   "source": [
    "spatial_fams_df_up = spatial_df[[f'{fam}_up' for fam in spatial_families]]\n",
    "spatial_fams_df_up.describe()"
   ]
  },
  {
   "cell_type": "code",
   "execution_count": null,
   "metadata": {},
   "outputs": [],
   "source": [
    "value_based = spatial_fams_df['value-based'].to_numpy()\n",
    "time_based =  spatial_fams_df['time-based'].to_numpy()\n",
    "graph_based = spatial_fams_df['graph-based'].to_numpy()\n",
    "statistic, p_val = stats.wilcoxon(value_based, time_based)\n",
    "print(f\"Wilcoxon statistical test results for spd vs time lag are p-value={p_val} (statistic={statistic})\")\n",
    "statistic, p_val = stats.wilcoxon(value_based, graph_based)\n",
    "print(f\"Wilcoxon statistical test results for spd vs graph are p-value={p_val} (statistic={statistic})\")\n",
    "statistic, p_val = stats.wilcoxon(time_based, graph_based)\n",
    "print(f\"Wilcoxon statistical test results for time lag vs graph are p-value={p_val} (statistic={statistic})\")"
   ]
  },
  {
   "cell_type": "code",
   "execution_count": null,
   "metadata": {},
   "outputs": [],
   "source": [
    "value_based = spatial_fams_df_up['value-based_up'].to_numpy()\n",
    "time_based =  spatial_fams_df_up['time-based_up'].to_numpy()\n",
    "graph_based = spatial_fams_df_up['graph-based_up'].to_numpy()\n",
    "statistic, p_val = stats.wilcoxon(value_based, time_based)\n",
    "print(f\"Wilcoxon statistical test results for spd vs time lag are p-value={p_val} (statistic={statistic})\")\n",
    "statistic, p_val = stats.wilcoxon(value_based, graph_based)\n",
    "print(f\"Wilcoxon statistical test results for spd vs graph are p-value={p_val} (statistic={statistic})\")\n",
    "statistic, p_val = stats.wilcoxon(time_based, graph_based)\n",
    "print(f\"Wilcoxon statistical test results for time lag vs graph are p-value={p_val} (statistic={statistic})\")"
   ]
  },
  {
   "cell_type": "code",
   "execution_count": null,
   "metadata": {},
   "outputs": [],
   "source": [
    "event_families = {'dep': ['dep_red', 'dep_sd', 'dep_graph_avg_speed', 'dep_graph_slowest_path', 'dep_graph_fastest_path'],\n",
    "                  'fzc': ['fzc_red', 'fzc_sd', 'fzc_graph_avg_speed', 'fzc_graph_slowest_path', 'fzc_graph_fastest_path'],\n",
    "                  'szc': ['szc_red', 'szc_sd', 'szc_graph_avg_speed', 'szc_graph_slowest_path', 'szc_graph_fastest_path']}\n",
    "\n",
    "for fam in event_families:\n",
    "    spatial_df[fam] = spatial_df[event_families[fam]].sum(axis=1)"
   ]
  },
  {
   "cell_type": "code",
   "execution_count": null,
   "metadata": {},
   "outputs": [],
   "source": [
    "event_fams_df = spatial_df[[fam for fam in event_families]]\n",
    "event_fams_df.describe()"
   ]
  },
  {
   "cell_type": "code",
   "execution_count": null,
   "metadata": {},
   "outputs": [],
   "source": [
    "event_families_inds = names2inds(event_families, feature_names_org)\n",
    "\n",
    "for fam in event_families_inds:\n",
    "    spatial_df[f'{fam}_up'] = get_family_imp(event_families_inds[fam], spatial_imps)"
   ]
  },
  {
   "cell_type": "code",
   "execution_count": null,
   "metadata": {},
   "outputs": [],
   "source": [
    "event_fams_df_up = spatial_df[[f'{fam}_up' for fam in event_families]]\n",
    "event_fams_df_up.describe()"
   ]
  },
  {
   "cell_type": "code",
   "execution_count": null,
   "metadata": {},
   "outputs": [],
   "source": [
    "dep_event = event_fams_df['dep'].to_numpy()\n",
    "fzc_event =  event_fams_df['fzc'].to_numpy()\n",
    "szc_event = event_fams_df['szc'].to_numpy()\n",
    "statistic, p_val = stats.wilcoxon(dep_event, fzc_event)\n",
    "print(f\"Wilcoxon statistical test results for dep vs fzc are p-value={p_val} (statistic={statistic})\")\n",
    "statistic, p_val = stats.wilcoxon(dep_event, szc_event)\n",
    "print(f\"Wilcoxon statistical test results for dep vs szc are p-value={p_val} (statistic={statistic})\")\n",
    "statistic, p_val = stats.wilcoxon(fzc_event, szc_event)\n",
    "print(f\"Wilcoxon statistical test results for fzc vs szc are p-value={p_val} (statistic={statistic})\")"
   ]
  },
  {
   "cell_type": "code",
   "execution_count": null,
   "metadata": {},
   "outputs": [],
   "source": [
    "dep_event = event_fams_df_up['dep_up'].to_numpy()\n",
    "fzc_event = event_fams_df_up['fzc_up'].to_numpy()\n",
    "szc_event = event_fams_df_up['szc_up'].to_numpy()\n",
    "statistic, p_val = stats.wilcoxon(dep_event, fzc_event)\n",
    "print(f\"Wilcoxon statistical test results for dep vs fzc are p-value={p_val} (statistic={statistic})\")\n",
    "statistic, p_val = stats.wilcoxon(dep_event, szc_event)\n",
    "print(f\"Wilcoxon statistical test results for dep vs szc are p-value={p_val} (statistic={statistic})\")\n",
    "statistic, p_val = stats.wilcoxon(fzc_event, szc_event)\n",
    "print(f\"Wilcoxon statistical test results for fzc vs szc are p-value={p_val} (statistic={statistic})\")"
   ]
  },
  {
   "cell_type": "markdown",
   "metadata": {},
   "source": [
    "## Temporal"
   ]
  },
  {
   "cell_type": "code",
   "execution_count": null,
   "metadata": {},
   "outputs": [],
   "source": [
    "temporal_df = df[df.chunk_size == 1600]\n",
    "temporal_df = temporal_df[temporal_df.modality == 'temporal']\n",
    "temporal_imps = imps[14::3 * 8,:, :]\n",
    "\n",
    "temporal_df = temporal_df.dropna(how='all', axis=1)\n",
    "keep = [f'test feature {i+1}' for i in TEMPORAL[:-1]]\n",
    "drop = [c for c in temporal_df.columns if c not in keep]\n",
    "temporal_df = temporal_df.drop(columns=drop)\n",
    "mapper = {f'test feature {i+1}': feature_names_org[i] for i in TEMPORAL[:-1]}\n",
    "temporal_df = temporal_df.rename(columns=mapper)"
   ]
  },
  {
   "cell_type": "code",
   "execution_count": null,
   "metadata": {},
   "outputs": [],
   "source": [
    "temporal_df.describe()"
   ]
  },
  {
   "cell_type": "code",
   "execution_count": null,
   "metadata": {},
   "outputs": [],
   "source": [
    "temporal_df_base = df_base[df_base.chunk_size == 1600]\n",
    "temporal_df_base = temporal_df_base[temporal_df_base.modality == 'temporal']\n",
    "\n",
    "temporal_df_base = temporal_df_base.dropna(how='all', axis=1)\n",
    "temporal_df_base = temporal_df_base.drop(columns=drop)\n",
    "temporal_df_base = temporal_df_base.rename(columns=mapper)\n",
    "\n",
    "for col in temporal_df.columns:\n",
    "    col_test = temporal_df[col].to_numpy()\n",
    "    col_base = temporal_df_base[col].to_numpy()\n",
    "    \n",
    "    test_median, test_prec25, test_prec75 = np.percentile(col_test, [50, 25, 75])\n",
    "    base_median, base_prec25, base_prec75 = np.percentile(col_base, [50, 25, 75])\n",
    "    \n",
    "    print(f\"Median of test {col} column is {test_median} [{test_prec25}, {test_prec75}]\")\n",
    "    print(f\"Median of base {col} column is {base_median} [{base_prec25}, {base_prec75}]\")\n",
    "    \n",
    "    statistic, p_val = stats.mannwhitneyu(col_test, col_base, alternative='greater')\n",
    "    print(f\"Mann-Whitney statistical test results for feature {col} are p-value={p_val} (statistic={statistic})\")\n",
    "    print()"
   ]
  },
  {
   "cell_type": "code",
   "execution_count": null,
   "metadata": {},
   "outputs": [],
   "source": [
    "temporal_families = {'short': ['d_kl_start', 'unif_dist', 'rise_time'],\n",
    "                     'long': ['d_kl_mid', 'jump'],\n",
    "                     'wb': ['firing_rate', 'psd_center', 'der_psd_center']}\n",
    "\n",
    "for fam in temporal_families:\n",
    "    temporal_df[fam] = temporal_df[temporal_families[fam]].sum(axis=1)"
   ]
  },
  {
   "cell_type": "code",
   "execution_count": null,
   "metadata": {},
   "outputs": [],
   "source": [
    "temporal_fams_df = temporal_df[[fam for fam in temporal_families]]\n",
    "temporal_fams_df.describe()"
   ]
  },
  {
   "cell_type": "code",
   "execution_count": null,
   "metadata": {},
   "outputs": [],
   "source": [
    "temporal_families_inds = names2inds(temporal_families, feature_names_org)\n",
    "\n",
    "for fam in temporal_families_inds:\n",
    "    temporal_df[f'{fam}_up'] = get_family_imp(temporal_families_inds[fam], temporal_imps)"
   ]
  },
  {
   "cell_type": "code",
   "execution_count": null,
   "metadata": {},
   "outputs": [],
   "source": [
    "temporal_fams_df_up = temporal_df[[f'{fam}_up' for fam in temporal_families]]\n",
    "temporal_fams_df_up.describe()"
   ]
  },
  {
   "cell_type": "code",
   "execution_count": null,
   "metadata": {},
   "outputs": [],
   "source": [
    "short = temporal_fams_df['short'].to_numpy()\n",
    "long =  temporal_fams_df['long'].to_numpy()\n",
    "wb = temporal_fams_df['wb'].to_numpy()\n",
    "statistic, p_val = stats.wilcoxon(short, long)\n",
    "print(f\"Wilcoxon statistical test results for short vs long are p-value={p_val} (statistic={statistic})\")\n",
    "statistic, p_val = stats.wilcoxon(short, wb)\n",
    "print(f\"Wilcoxon statistical test results for short vs wb are p-value={p_val} (statistic={statistic})\")\n",
    "statistic, p_val = stats.wilcoxon(long, wb)\n",
    "print(f\"Wilcoxon statistical test results for short vs wb are p-value={p_val} (statistic={statistic})\")"
   ]
  },
  {
   "cell_type": "code",
   "execution_count": null,
   "metadata": {},
   "outputs": [],
   "source": [
    "short = temporal_fams_df_up['short_up'].to_numpy()\n",
    "long =  temporal_fams_df_up['long_up'].to_numpy()\n",
    "wb = temporal_fams_df_up['wb_up'].to_numpy()\n",
    "statistic, p_val = stats.wilcoxon(short, long)\n",
    "print(f\"Wilcoxon statistical test results for short vs long are p-value={p_val} (statistic={statistic})\")\n",
    "statistic, p_val = stats.wilcoxon(short, wb)\n",
    "print(f\"Wilcoxon statistical test results for short vs wb are p-value={p_val} (statistic={statistic})\")\n",
    "statistic, p_val = stats.wilcoxon(long, wb)\n",
    "print(f\"Wilcoxon statistical test results for short vs wb are p-value={p_val} (statistic={statistic})\")"
   ]
  },
  {
   "cell_type": "markdown",
   "metadata": {},
   "source": [
    "## WF (Morphological)"
   ]
  },
  {
   "cell_type": "code",
   "execution_count": null,
   "metadata": {},
   "outputs": [],
   "source": [
    "morph_df = df[df.chunk_size == 50]\n",
    "morph_df = morph_df[morph_df.modality == 'morphological']\n",
    "morph_imps = imps[22::3 * 8,:, :]\n",
    "\n",
    "morph_df = morph_df.dropna(how='all', axis=1)\n",
    "keep = [f'test feature {i+1}' for i in MORPHOLOGICAL[:-1]]\n",
    "drop = [c for c in morph_df.columns if c not in keep]\n",
    "morph_df = morph_df.drop(columns=drop)\n",
    "mapper = {f'test feature {i+1}': feature_names_org[i] for i in MORPHOLOGICAL[:-1]}\n",
    "morph_df = morph_df.rename(columns=mapper)"
   ]
  },
  {
   "cell_type": "code",
   "execution_count": null,
   "metadata": {},
   "outputs": [],
   "source": [
    "morph_df.describe()"
   ]
  },
  {
   "cell_type": "code",
   "execution_count": null,
   "metadata": {},
   "outputs": [],
   "source": [
    "morph_df_base = df_base[df_base.chunk_size == 50]\n",
    "morph_df_base = morph_df_base[morph_df_base.modality == 'morphological']\n",
    "\n",
    "morph_df_base = morph_df_base.dropna(how='all', axis=1)\n",
    "morph_df_base = morph_df_base.drop(columns=drop)\n",
    "morph_df_base = morph_df_base.rename(columns=mapper)\n",
    "\n",
    "for col in morph_df.columns:\n",
    "    col_test = morph_df[col].to_numpy()\n",
    "    col_base = morph_df_base[col].to_numpy()\n",
    "    \n",
    "    test_median, test_prec25, test_prec75 = np.percentile(col_test, [50, 25, 75])\n",
    "    base_median, base_prec25, base_prec75 = np.percentile(col_base, [50, 25, 75])\n",
    "    \n",
    "    print(f\"Median of test {col} column is {test_median} [{test_prec25}, {test_prec75}]\")\n",
    "    print(f\"Median of base {col} column is {base_median} [{base_prec25}, {base_prec75}]\")\n",
    "    \n",
    "    statistic, p_val = stats.mannwhitneyu(col_test, col_base, alternative='greater')\n",
    "    print(f\"Mann-Whitney statistical test results for feature {col} are p-value={p_val} (statistic={statistic})\")\n",
    "    print()"
   ]
  },
  {
   "cell_type": "code",
   "execution_count": null,
   "metadata": {},
   "outputs": [],
   "source": [
    "morph_families = {'WF': ['trough2peak', 'peak2peak', 'fwhm', 'rise_coef'],\n",
    "                  'first': ['max_speed'],\n",
    "                  'second': ['break_measure', 'smile_cry', 'get_acc']}\n",
    "\n",
    "for fam in morph_families:\n",
    "    morph_df[fam] = morph_df[morph_families[fam]].sum(axis=1)"
   ]
  },
  {
   "cell_type": "code",
   "execution_count": null,
   "metadata": {},
   "outputs": [],
   "source": [
    "morph_fams_df = morph_df[[fam for fam in morph_families]]\n",
    "morph_fams_df.describe()"
   ]
  },
  {
   "cell_type": "code",
   "execution_count": null,
   "metadata": {},
   "outputs": [],
   "source": [
    "morph_families_inds = names2inds(morph_families, feature_names_org)\n",
    "\n",
    "for fam in morph_families:\n",
    "    morph_df[f'{fam}_up'] = get_family_imp(morph_families_inds[fam], morph_imps)"
   ]
  },
  {
   "cell_type": "code",
   "execution_count": null,
   "metadata": {},
   "outputs": [],
   "source": [
    "morph_fams_df_up = morph_df[[f'{fam}_up' for fam in morph_families]]\n",
    "morph_fams_df_up.describe()"
   ]
  },
  {
   "cell_type": "code",
   "execution_count": null,
   "metadata": {},
   "outputs": [],
   "source": [
    "org = morph_fams_df['WF'].to_numpy()\n",
    "first =  morph_fams_df['first'].to_numpy()\n",
    "second = morph_fams_df['second'].to_numpy()\n",
    "statistic, p_val = stats.wilcoxon(org, first)\n",
    "print(f\"Wilcoxon statistical test results for WF vs first are p-value={p_val} (statistic={statistic})\")\n",
    "statistic, p_val = stats.wilcoxon(org, second)\n",
    "print(f\"Wilcoxon statistical test results for WF vs second are p-value={p_val} (statistic={statistic})\")"
   ]
  },
  {
   "cell_type": "code",
   "execution_count": null,
   "metadata": {},
   "outputs": [],
   "source": [
    "org = morph_fams_df_up['WF_up'].to_numpy()\n",
    "first =  morph_fams_df_up['first_up'].to_numpy()\n",
    "second = morph_fams_df_up['second_up'].to_numpy()\n",
    "statistic, p_val = stats.wilcoxon(org, first)\n",
    "print(f\"Wilcoxon statistical test results for WF vs first are p-value={p_val} (statistic={statistic})\")\n",
    "statistic, p_val = stats.wilcoxon(org, second)\n",
    "print(f\"Wilcoxon statistical test results for WF vs second are p-value={p_val} (statistic={statistic})\")"
   ]
  },
  {
   "cell_type": "markdown",
   "metadata": {},
   "source": [
    "## Moments"
   ]
  },
  {
   "cell_type": "code",
   "execution_count": 4,
   "metadata": {},
   "outputs": [],
   "source": [
    "PATH = 'ml/results_rf_moments.csv'\n",
    "BASE = 'ml/results_rf_moments_chance_balanced.csv'\n",
    "\n",
    "df = pd.read_csv(PATH, index_col=0)\n",
    "df = df[df.restriction == 'complete']\n",
    " \n",
    "df_base = pd.read_csv(BASE, index_col=0)\n",
    "df_base = df_base[df_base.restriction == 'complete']"
   ]
  },
  {
   "cell_type": "code",
   "execution_count": 5,
   "metadata": {},
   "outputs": [],
   "source": [
    "moments_names = ['Original', 'Mean', 'SD', 'Q25', 'Median', 'Q75']"
   ]
  },
  {
   "cell_type": "markdown",
   "metadata": {},
   "source": [
    "### Spatial"
   ]
  },
  {
   "cell_type": "code",
   "execution_count": 17,
   "metadata": {},
   "outputs": [],
   "source": [
    "spatial_df = df[df.chunk_size == 25]\n",
    "spatial_df = spatial_df[spatial_df.modality == 'spatial']\n",
    "\n",
    "keep = [f'test feature {i+1}' for i in (np.arange(NUM_MOMENTS + 1))]\n",
    "drop = [c for c in spatial_df.columns if c not in keep]\n",
    "spatial_df = spatial_df.drop(columns=drop)\n",
    "\n",
    "mapper = {f'test feature {i+1}': moments_names[i] for i in np.arange(NUM_MOMENTS + 1)}\n",
    "spatial_df = spatial_df.rename(columns=mapper)"
   ]
  },
  {
   "cell_type": "code",
   "execution_count": 18,
   "metadata": {},
   "outputs": [
    {
     "data": {
      "text/html": [
       "<div>\n",
       "<style scoped>\n",
       "    .dataframe tbody tr th:only-of-type {\n",
       "        vertical-align: middle;\n",
       "    }\n",
       "\n",
       "    .dataframe tbody tr th {\n",
       "        vertical-align: top;\n",
       "    }\n",
       "\n",
       "    .dataframe thead th {\n",
       "        text-align: right;\n",
       "    }\n",
       "</style>\n",
       "<table border=\"1\" class=\"dataframe\">\n",
       "  <thead>\n",
       "    <tr style=\"text-align: right;\">\n",
       "      <th></th>\n",
       "      <th>Original</th>\n",
       "      <th>Mean</th>\n",
       "      <th>SD</th>\n",
       "      <th>Q25</th>\n",
       "      <th>Median</th>\n",
       "      <th>Q75</th>\n",
       "    </tr>\n",
       "  </thead>\n",
       "  <tbody>\n",
       "    <tr>\n",
       "      <th>count</th>\n",
       "      <td>50.000000</td>\n",
       "      <td>50.000000</td>\n",
       "      <td>50.000000</td>\n",
       "      <td>50.000000</td>\n",
       "      <td>50.000000</td>\n",
       "      <td>50.000000</td>\n",
       "    </tr>\n",
       "    <tr>\n",
       "      <th>mean</th>\n",
       "      <td>0.003166</td>\n",
       "      <td>0.051620</td>\n",
       "      <td>0.162757</td>\n",
       "      <td>0.067698</td>\n",
       "      <td>0.038598</td>\n",
       "      <td>0.060491</td>\n",
       "    </tr>\n",
       "    <tr>\n",
       "      <th>std</th>\n",
       "      <td>0.002939</td>\n",
       "      <td>0.009687</td>\n",
       "      <td>0.017315</td>\n",
       "      <td>0.014564</td>\n",
       "      <td>0.008582</td>\n",
       "      <td>0.013721</td>\n",
       "    </tr>\n",
       "    <tr>\n",
       "      <th>min</th>\n",
       "      <td>0.000779</td>\n",
       "      <td>0.030074</td>\n",
       "      <td>0.130779</td>\n",
       "      <td>0.039486</td>\n",
       "      <td>0.021126</td>\n",
       "      <td>0.032141</td>\n",
       "    </tr>\n",
       "    <tr>\n",
       "      <th>25%</th>\n",
       "      <td>0.001624</td>\n",
       "      <td>0.045045</td>\n",
       "      <td>0.147828</td>\n",
       "      <td>0.057077</td>\n",
       "      <td>0.033168</td>\n",
       "      <td>0.051889</td>\n",
       "    </tr>\n",
       "    <tr>\n",
       "      <th>50%</th>\n",
       "      <td>0.002438</td>\n",
       "      <td>0.052010</td>\n",
       "      <td>0.162075</td>\n",
       "      <td>0.067352</td>\n",
       "      <td>0.037001</td>\n",
       "      <td>0.059945</td>\n",
       "    </tr>\n",
       "    <tr>\n",
       "      <th>75%</th>\n",
       "      <td>0.003106</td>\n",
       "      <td>0.057900</td>\n",
       "      <td>0.173901</td>\n",
       "      <td>0.075903</td>\n",
       "      <td>0.043856</td>\n",
       "      <td>0.068510</td>\n",
       "    </tr>\n",
       "    <tr>\n",
       "      <th>max</th>\n",
       "      <td>0.016771</td>\n",
       "      <td>0.073967</td>\n",
       "      <td>0.200541</td>\n",
       "      <td>0.120412</td>\n",
       "      <td>0.066409</td>\n",
       "      <td>0.093201</td>\n",
       "    </tr>\n",
       "  </tbody>\n",
       "</table>\n",
       "</div>"
      ],
      "text/plain": [
       "        Original       Mean         SD        Q25     Median        Q75\n",
       "count  50.000000  50.000000  50.000000  50.000000  50.000000  50.000000\n",
       "mean    0.003166   0.051620   0.162757   0.067698   0.038598   0.060491\n",
       "std     0.002939   0.009687   0.017315   0.014564   0.008582   0.013721\n",
       "min     0.000779   0.030074   0.130779   0.039486   0.021126   0.032141\n",
       "25%     0.001624   0.045045   0.147828   0.057077   0.033168   0.051889\n",
       "50%     0.002438   0.052010   0.162075   0.067352   0.037001   0.059945\n",
       "75%     0.003106   0.057900   0.173901   0.075903   0.043856   0.068510\n",
       "max     0.016771   0.073967   0.200541   0.120412   0.066409   0.093201"
      ]
     },
     "execution_count": 18,
     "metadata": {},
     "output_type": "execute_result"
    }
   ],
   "source": [
    "spatial_df.describe()"
   ]
  },
  {
   "cell_type": "code",
   "execution_count": 19,
   "metadata": {},
   "outputs": [
    {
     "name": "stdout",
     "output_type": "stream",
     "text": [
      "Median of test Original column is 0.0024379321464613954 [0.0016241253911328513, 0.0031055695932484108]\n",
      "Median of base Original column is 0.010337783240916646 [0.005428529615957661, 0.023136359055328445]\n",
      "Mann-Whitney statistical test results for feature Original are p-value=0.9999999999960985 (statistic=258.0)\n",
      "\n",
      "Median of test Mean column is 0.05201005082433725 [0.045045248894187706, 0.05789950900895412]\n",
      "Median of base Mean column is 0.0036999208163549504 [0.002084875672954233, 0.00818752087381185]\n",
      "Mann-Whitney statistical test results for feature Mean are p-value=6.060044905437509e-18 (statistic=2491.0)\n",
      "\n",
      "Median of test SD column is 0.16207471437127263 [0.14782810729137247, 0.17390097158750917]\n",
      "Median of base SD column is 0.003659140704237971 [0.0023178400525044286, 0.012008006509250494]\n",
      "Mann-Whitney statistical test results for feature SD are p-value=3.533035965194466e-18 (statistic=2500.0)\n",
      "\n",
      "Median of test Q25 column is 0.06735180638014514 [0.05707747809787165, 0.07590309042328994]\n",
      "Median of base Q25 column is 0.002933819544738417 [0.0017706567866197617, 0.010150375124357038]\n",
      "Mann-Whitney statistical test results for feature Q25 are p-value=5.7084860028067625e-18 (statistic=2492.0)\n",
      "\n",
      "Median of test Median column is 0.0370007244008561 [0.0331680124199957, 0.043856413714614115]\n",
      "Median of base Median column is 0.002937681045044288 [0.001358990794044263, 0.005241063257746274]\n",
      "Mann-Whitney statistical test results for feature Median are p-value=1.9828732361768027e-17 (statistic=2471.0)\n",
      "\n",
      "Median of test Q75 column is 0.05994517005513085 [0.05188922886104855, 0.06851041003017187]\n",
      "Median of base Q75 column is 0.0039766672779975865 [0.002030108565113206, 0.008811141077410226]\n",
      "Mann-Whitney statistical test results for feature Q75 are p-value=5.37706962437211e-18 (statistic=2493.0)\n",
      "\n"
     ]
    }
   ],
   "source": [
    "spatial_df_base = df_base[df_base.chunk_size == 25]\n",
    "spatial_df_base = spatial_df_base[spatial_df_base.modality == 'spatial']\n",
    "\n",
    "spatial_df_base = spatial_df_base.drop(columns=drop)\n",
    "spatial_df_base = spatial_df_base.dropna(how='all', axis=1)\n",
    "spatial_df_base = spatial_df_base.rename(columns=mapper)\n",
    "\n",
    "for col in spatial_df.columns:\n",
    "    col_test = spatial_df[col].to_numpy()\n",
    "    col_base = spatial_df_base[col].to_numpy()\n",
    "    \n",
    "    test_median, test_prec25, test_prec75 = np.percentile(col_test, [50, 25, 75])\n",
    "    base_median, base_prec25, base_prec75 = np.percentile(col_base, [50, 25, 75])\n",
    "    \n",
    "    print(f\"Median of test {col} column is {test_median} [{test_prec25}, {test_prec75}]\")\n",
    "    print(f\"Median of base {col} column is {base_median} [{base_prec25}, {base_prec75}]\")\n",
    "    \n",
    "    statistic, p_val = stats.mannwhitneyu(col_test, col_base, alternative='greater')\n",
    "    print(f\"Mann-Whitney statistical test results for feature {col} are p-value={p_val} (statistic={statistic})\")\n",
    "    print()"
   ]
  },
  {
   "cell_type": "code",
   "execution_count": 20,
   "metadata": {},
   "outputs": [
    {
     "name": "stdout",
     "output_type": "stream",
     "text": [
      "Mann-Whitney statistical test results for feature Mean are p-value=3.533035965194466e-18 (statistic=0.0)\n",
      "\n",
      "Mann-Whitney statistical test results for feature SD are p-value=3.533035965194466e-18 (statistic=0.0)\n",
      "\n",
      "Mann-Whitney statistical test results for feature Q25 are p-value=3.533035965194466e-18 (statistic=0.0)\n",
      "\n",
      "Mann-Whitney statistical test results for feature Median are p-value=3.533035965194466e-18 (statistic=0.0)\n",
      "\n",
      "Mann-Whitney statistical test results for feature Q75 are p-value=3.533035965194466e-18 (statistic=0.0)\n",
      "\n"
     ]
    }
   ],
   "source": [
    "for col in spatial_df.columns:\n",
    "    if col == 'Original':\n",
    "        continue\n",
    "    col_test = spatial_df[col].to_numpy()\n",
    "    col_test_original = spatial_df['Original'].to_numpy()\n",
    "\n",
    "    statistic, p_val = stats.mannwhitneyu(col_test, col_test_original)\n",
    "    print(f\"Mann-Whitney statistical test results for feature {col} are p-value={p_val} (statistic={statistic})\")\n",
    "    print()"
   ]
  },
  {
   "cell_type": "code",
   "execution_count": 21,
   "metadata": {},
   "outputs": [
    {
     "name": "stdout",
     "output_type": "stream",
     "text": [
      "Mann-Whitney statistical test results for feature Original are p-value=3.533035965194466e-18 (statistic=0.0)\n",
      "\n",
      "Mann-Whitney statistical test results for feature Mean are p-value=3.533035965194466e-18 (statistic=0.0)\n",
      "\n",
      "Mann-Whitney statistical test results for feature Q25 are p-value=3.533035965194466e-18 (statistic=0.0)\n",
      "\n",
      "Mann-Whitney statistical test results for feature Median are p-value=3.533035965194466e-18 (statistic=0.0)\n",
      "\n",
      "Mann-Whitney statistical test results for feature Q75 are p-value=3.533035965194466e-18 (statistic=0.0)\n",
      "\n"
     ]
    }
   ],
   "source": [
    "for col in spatial_df.columns:\n",
    "    if col == 'SD':\n",
    "        continue\n",
    "    col_test = spatial_df[col].to_numpy()\n",
    "    col_test_sd = spatial_df['SD'].to_numpy()\n",
    "\n",
    "    statistic, p_val = stats.mannwhitneyu(col_test, col_test_sd)\n",
    "    print(f\"Mann-Whitney statistical test results for feature {col} are p-value={p_val} (statistic={statistic})\")\n",
    "    print()"
   ]
  },
  {
   "cell_type": "markdown",
   "metadata": {},
   "source": [
    "### Spike-timing"
   ]
  },
  {
   "cell_type": "code",
   "execution_count": 11,
   "metadata": {},
   "outputs": [],
   "source": [
    "temporal_df = df[df.chunk_size == 1600]\n",
    "temporal_df = temporal_df[temporal_df.modality == 'temporal']\n",
    "\n",
    "keep = [f'test feature {i+1}' for i in (np.arange(NUM_MOMENTS + 1))]\n",
    "drop = [c for c in temporal_df.columns if c not in keep]\n",
    "temporal_df = temporal_df.drop(columns=drop)\n",
    "\n",
    "mapper = {f'test feature {i+1}': moments_names[i] for i in np.arange(NUM_MOMENTS + 1)}\n",
    "temporal_df = temporal_df.rename(columns=mapper)"
   ]
  },
  {
   "cell_type": "code",
   "execution_count": 12,
   "metadata": {},
   "outputs": [
    {
     "data": {
      "text/html": [
       "<div>\n",
       "<style scoped>\n",
       "    .dataframe tbody tr th:only-of-type {\n",
       "        vertical-align: middle;\n",
       "    }\n",
       "\n",
       "    .dataframe tbody tr th {\n",
       "        vertical-align: top;\n",
       "    }\n",
       "\n",
       "    .dataframe thead th {\n",
       "        text-align: right;\n",
       "    }\n",
       "</style>\n",
       "<table border=\"1\" class=\"dataframe\">\n",
       "  <thead>\n",
       "    <tr style=\"text-align: right;\">\n",
       "      <th></th>\n",
       "      <th>Original</th>\n",
       "      <th>Mean</th>\n",
       "      <th>SD</th>\n",
       "      <th>Q25</th>\n",
       "      <th>Median</th>\n",
       "      <th>Q75</th>\n",
       "    </tr>\n",
       "  </thead>\n",
       "  <tbody>\n",
       "    <tr>\n",
       "      <th>count</th>\n",
       "      <td>50.000000</td>\n",
       "      <td>50.000000</td>\n",
       "      <td>50.000000</td>\n",
       "      <td>50.000000</td>\n",
       "      <td>50.000000</td>\n",
       "      <td>50.000000</td>\n",
       "    </tr>\n",
       "    <tr>\n",
       "      <th>mean</th>\n",
       "      <td>0.051028</td>\n",
       "      <td>0.088946</td>\n",
       "      <td>0.030351</td>\n",
       "      <td>0.097965</td>\n",
       "      <td>0.093147</td>\n",
       "      <td>0.104980</td>\n",
       "    </tr>\n",
       "    <tr>\n",
       "      <th>std</th>\n",
       "      <td>0.013718</td>\n",
       "      <td>0.015345</td>\n",
       "      <td>0.006604</td>\n",
       "      <td>0.018389</td>\n",
       "      <td>0.021444</td>\n",
       "      <td>0.020827</td>\n",
       "    </tr>\n",
       "    <tr>\n",
       "      <th>min</th>\n",
       "      <td>0.021799</td>\n",
       "      <td>0.030305</td>\n",
       "      <td>0.012879</td>\n",
       "      <td>0.018700</td>\n",
       "      <td>0.040656</td>\n",
       "      <td>0.072726</td>\n",
       "    </tr>\n",
       "    <tr>\n",
       "      <th>25%</th>\n",
       "      <td>0.042237</td>\n",
       "      <td>0.079957</td>\n",
       "      <td>0.026717</td>\n",
       "      <td>0.089166</td>\n",
       "      <td>0.084197</td>\n",
       "      <td>0.091208</td>\n",
       "    </tr>\n",
       "    <tr>\n",
       "      <th>50%</th>\n",
       "      <td>0.049169</td>\n",
       "      <td>0.090793</td>\n",
       "      <td>0.031512</td>\n",
       "      <td>0.100306</td>\n",
       "      <td>0.089799</td>\n",
       "      <td>0.098839</td>\n",
       "    </tr>\n",
       "    <tr>\n",
       "      <th>75%</th>\n",
       "      <td>0.059225</td>\n",
       "      <td>0.099308</td>\n",
       "      <td>0.033688</td>\n",
       "      <td>0.108278</td>\n",
       "      <td>0.101627</td>\n",
       "      <td>0.117467</td>\n",
       "    </tr>\n",
       "    <tr>\n",
       "      <th>max</th>\n",
       "      <td>0.100189</td>\n",
       "      <td>0.126585</td>\n",
       "      <td>0.046550</td>\n",
       "      <td>0.138924</td>\n",
       "      <td>0.190443</td>\n",
       "      <td>0.159987</td>\n",
       "    </tr>\n",
       "  </tbody>\n",
       "</table>\n",
       "</div>"
      ],
      "text/plain": [
       "        Original       Mean         SD        Q25     Median        Q75\n",
       "count  50.000000  50.000000  50.000000  50.000000  50.000000  50.000000\n",
       "mean    0.051028   0.088946   0.030351   0.097965   0.093147   0.104980\n",
       "std     0.013718   0.015345   0.006604   0.018389   0.021444   0.020827\n",
       "min     0.021799   0.030305   0.012879   0.018700   0.040656   0.072726\n",
       "25%     0.042237   0.079957   0.026717   0.089166   0.084197   0.091208\n",
       "50%     0.049169   0.090793   0.031512   0.100306   0.089799   0.098839\n",
       "75%     0.059225   0.099308   0.033688   0.108278   0.101627   0.117467\n",
       "max     0.100189   0.126585   0.046550   0.138924   0.190443   0.159987"
      ]
     },
     "execution_count": 12,
     "metadata": {},
     "output_type": "execute_result"
    }
   ],
   "source": [
    "temporal_df.describe()"
   ]
  },
  {
   "cell_type": "code",
   "execution_count": 13,
   "metadata": {},
   "outputs": [
    {
     "name": "stdout",
     "output_type": "stream",
     "text": [
      "Median of test Original column is 0.049168597585393284 [0.04223717851421639, 0.05922549293105055]\n",
      "Median of base Original column is 0.0702281743168738 [0.032731743358026893, 0.10602249069231215]\n",
      "Mann-Whitney statistical test results for feature Original are p-value=0.9693740088704476 (statistic=979.0)\n",
      "\n",
      "Median of test Mean column is 0.09079308870575285 [0.07995700909357352, 0.0993076709215153]\n",
      "Median of base Mean column is 0.018867166137777187 [0.010543452345292408, 0.026230177147372684]\n",
      "Mann-Whitney statistical test results for feature Mean are p-value=9.536222832167321e-17 (statistic=2444.0)\n",
      "\n",
      "Median of test SD column is 0.03151209343431375 [0.02671693814152817, 0.03368750736152391]\n",
      "Median of base SD column is 0.0237637917505148 [0.012374683373946052, 0.03538959157805905]\n",
      "Mann-Whitney statistical test results for feature SD are p-value=0.007839915983387659 (statistic=1601.0)\n",
      "\n",
      "Median of test Q25 column is 0.1003064311280634 [0.08916622808666558, 0.10827794174549525]\n",
      "Median of base Q25 column is 0.017700689600566328 [0.009022155992666796, 0.029156143814452917]\n",
      "Mann-Whitney statistical test results for feature Q25 are p-value=1.5666900456523735e-17 (statistic=2475.0)\n",
      "\n",
      "Median of test Median column is 0.08979941724252916 [0.08419689533356947, 0.10162734579589845]\n",
      "Median of base Median column is 0.017892441055966324 [0.011959883362868153, 0.03693979021461251]\n",
      "Mann-Whitney statistical test results for feature Median are p-value=8.164783701639051e-18 (statistic=2486.0)\n",
      "\n",
      "Median of test Q75 column is 0.09883901916396326 [0.09120790639249537, 0.11746666182655346]\n",
      "Median of base Q75 column is 0.01921671390406346 [0.01054019164624651, 0.031197893399432193]\n",
      "Mann-Whitney statistical test results for feature Q75 are p-value=3.752027398590286e-18 (statistic=2499.0)\n",
      "\n"
     ]
    }
   ],
   "source": [
    "temporal_df_base = df_base[df_base.chunk_size == 1600]\n",
    "temporal_df_base = temporal_df_base[temporal_df_base.modality == 'temporal']\n",
    "\n",
    "temporal_df_base = temporal_df_base.drop(columns=drop)\n",
    "temporal_df_base = temporal_df_base.dropna(how='all', axis=1)\n",
    "temporal_df_base = temporal_df_base.rename(columns=mapper)\n",
    "\n",
    "for col in temporal_df.columns:\n",
    "    col_test = temporal_df[col].to_numpy()\n",
    "    col_base = temporal_df_base[col].to_numpy()\n",
    "    \n",
    "    test_median, test_prec25, test_prec75 = np.percentile(col_test, [50, 25, 75])\n",
    "    base_median, base_prec25, base_prec75 = np.percentile(col_base, [50, 25, 75])\n",
    "    \n",
    "    print(f\"Median of test {col} column is {test_median} [{test_prec25}, {test_prec75}]\")\n",
    "    print(f\"Median of base {col} column is {base_median} [{base_prec25}, {base_prec75}]\")\n",
    "    \n",
    "    statistic, p_val = stats.mannwhitneyu(col_test, col_base, alternative='greater')\n",
    "    print(f\"Mann-Whitney statistical test results for feature {col} are p-value={p_val} (statistic={statistic})\")\n",
    "    print()"
   ]
  },
  {
   "cell_type": "code",
   "execution_count": 14,
   "metadata": {},
   "outputs": [
    {
     "name": "stdout",
     "output_type": "stream",
     "text": [
      "Mann-Whitney statistical test results for feature Mean are p-value=1.5112130159282838e-15 (statistic=105.0)\n",
      "\n",
      "Mann-Whitney statistical test results for feature SD are p-value=4.242867088798065e-14 (statistic=167.0)\n",
      "\n",
      "Mann-Whitney statistical test results for feature Q25 are p-value=4.432167636937588e-16 (statistic=83.0)\n",
      "\n",
      "Mann-Whitney statistical test results for feature Median are p-value=1.884188348687208e-15 (statistic=109.0)\n",
      "\n",
      "Mann-Whitney statistical test results for feature Q75 are p-value=2.102916316646988e-17 (statistic=30.0)\n",
      "\n"
     ]
    }
   ],
   "source": [
    "for col in temporal_df.columns:\n",
    "    if col == 'Original':\n",
    "        continue\n",
    "    col_test = temporal_df[col].to_numpy()\n",
    "    col_test_original = temporal_df['Original'].to_numpy()\n",
    "\n",
    "    statistic, p_val = stats.mannwhitneyu(col_test, col_test_original)\n",
    "    print(f\"Mann-Whitney statistical test results for feature {col} are p-value={p_val} (statistic={statistic})\")\n",
    "    print()"
   ]
  },
  {
   "cell_type": "code",
   "execution_count": 16,
   "metadata": {},
   "outputs": [
    {
     "name": "stdout",
     "output_type": "stream",
     "text": [
      "Mann-Whitney statistical test results for feature Original are p-value=4.242867088798065e-14 (statistic=167.0)\n",
      "\n",
      "Mann-Whitney statistical test results for feature Mean are p-value=2.102916316646988e-17 (statistic=30.0)\n",
      "\n",
      "Mann-Whitney statistical test results for feature Q25 are p-value=5.3516117196336476e-17 (statistic=46.0)\n",
      "\n",
      "Mann-Whitney statistical test results for feature Median are p-value=4.230977759222343e-18 (statistic=3.0)\n",
      "\n",
      "Mann-Whitney statistical test results for feature Q75 are p-value=3.533035965194466e-18 (statistic=0.0)\n",
      "\n"
     ]
    }
   ],
   "source": [
    "for col in temporal_df.columns:\n",
    "    if col == 'SD':\n",
    "        continue\n",
    "    col_test = temporal_df[col].to_numpy()\n",
    "    col_test_sd = temporal_df['SD'].to_numpy()\n",
    "        \n",
    "    statistic, p_val = stats.mannwhitneyu(col_test, col_test_sd)\n",
    "    print(f\"Mann-Whitney statistical test results for feature {col} are p-value={p_val} (statistic={statistic})\")\n",
    "    print()"
   ]
  },
  {
   "cell_type": "markdown",
   "metadata": {},
   "source": [
    "### Waveform"
   ]
  },
  {
   "cell_type": "code",
   "execution_count": 6,
   "metadata": {},
   "outputs": [],
   "source": [
    "wf_df = df[df.chunk_size == 50]\n",
    "wf_df = wf_df[wf_df.modality == 'morphological']\n",
    "\n",
    "keep = [f'test feature {i+1}' for i in (np.arange(NUM_MOMENTS + 1))]\n",
    "drop = [c for c in wf_df.columns if c not in keep]\n",
    "wf_df = wf_df.drop(columns=drop)\n",
    "\n",
    "mapper = {f'test feature {i+1}': moments_names[i] for i in np.arange(NUM_MOMENTS + 1)}\n",
    "wf_df = wf_df.rename(columns=mapper)"
   ]
  },
  {
   "cell_type": "code",
   "execution_count": 7,
   "metadata": {},
   "outputs": [
    {
     "data": {
      "text/html": [
       "<div>\n",
       "<style scoped>\n",
       "    .dataframe tbody tr th:only-of-type {\n",
       "        vertical-align: middle;\n",
       "    }\n",
       "\n",
       "    .dataframe tbody tr th {\n",
       "        vertical-align: top;\n",
       "    }\n",
       "\n",
       "    .dataframe thead th {\n",
       "        text-align: right;\n",
       "    }\n",
       "</style>\n",
       "<table border=\"1\" class=\"dataframe\">\n",
       "  <thead>\n",
       "    <tr style=\"text-align: right;\">\n",
       "      <th></th>\n",
       "      <th>Original</th>\n",
       "      <th>Mean</th>\n",
       "      <th>SD</th>\n",
       "      <th>Q25</th>\n",
       "      <th>Median</th>\n",
       "      <th>Q75</th>\n",
       "    </tr>\n",
       "  </thead>\n",
       "  <tbody>\n",
       "    <tr>\n",
       "      <th>count</th>\n",
       "      <td>50.000000</td>\n",
       "      <td>50.000000</td>\n",
       "      <td>50.000000</td>\n",
       "      <td>50.000000</td>\n",
       "      <td>50.000000</td>\n",
       "      <td>50.000000</td>\n",
       "    </tr>\n",
       "    <tr>\n",
       "      <th>mean</th>\n",
       "      <td>0.023439</td>\n",
       "      <td>0.117799</td>\n",
       "      <td>0.036055</td>\n",
       "      <td>0.119735</td>\n",
       "      <td>0.101871</td>\n",
       "      <td>0.087564</td>\n",
       "    </tr>\n",
       "    <tr>\n",
       "      <th>std</th>\n",
       "      <td>0.008672</td>\n",
       "      <td>0.027136</td>\n",
       "      <td>0.015113</td>\n",
       "      <td>0.033335</td>\n",
       "      <td>0.026560</td>\n",
       "      <td>0.024249</td>\n",
       "    </tr>\n",
       "    <tr>\n",
       "      <th>min</th>\n",
       "      <td>0.002561</td>\n",
       "      <td>0.075096</td>\n",
       "      <td>0.016546</td>\n",
       "      <td>0.051519</td>\n",
       "      <td>0.036409</td>\n",
       "      <td>0.019827</td>\n",
       "    </tr>\n",
       "    <tr>\n",
       "      <th>25%</th>\n",
       "      <td>0.018188</td>\n",
       "      <td>0.100066</td>\n",
       "      <td>0.027242</td>\n",
       "      <td>0.102397</td>\n",
       "      <td>0.088383</td>\n",
       "      <td>0.071054</td>\n",
       "    </tr>\n",
       "    <tr>\n",
       "      <th>50%</th>\n",
       "      <td>0.022379</td>\n",
       "      <td>0.116444</td>\n",
       "      <td>0.033952</td>\n",
       "      <td>0.117159</td>\n",
       "      <td>0.100804</td>\n",
       "      <td>0.088183</td>\n",
       "    </tr>\n",
       "    <tr>\n",
       "      <th>75%</th>\n",
       "      <td>0.030186</td>\n",
       "      <td>0.127203</td>\n",
       "      <td>0.041060</td>\n",
       "      <td>0.136353</td>\n",
       "      <td>0.112628</td>\n",
       "      <td>0.100758</td>\n",
       "    </tr>\n",
       "    <tr>\n",
       "      <th>max</th>\n",
       "      <td>0.043224</td>\n",
       "      <td>0.205601</td>\n",
       "      <td>0.096509</td>\n",
       "      <td>0.232663</td>\n",
       "      <td>0.202500</td>\n",
       "      <td>0.154632</td>\n",
       "    </tr>\n",
       "  </tbody>\n",
       "</table>\n",
       "</div>"
      ],
      "text/plain": [
       "        Original       Mean         SD        Q25     Median        Q75\n",
       "count  50.000000  50.000000  50.000000  50.000000  50.000000  50.000000\n",
       "mean    0.023439   0.117799   0.036055   0.119735   0.101871   0.087564\n",
       "std     0.008672   0.027136   0.015113   0.033335   0.026560   0.024249\n",
       "min     0.002561   0.075096   0.016546   0.051519   0.036409   0.019827\n",
       "25%     0.018188   0.100066   0.027242   0.102397   0.088383   0.071054\n",
       "50%     0.022379   0.116444   0.033952   0.117159   0.100804   0.088183\n",
       "75%     0.030186   0.127203   0.041060   0.136353   0.112628   0.100758\n",
       "max     0.043224   0.205601   0.096509   0.232663   0.202500   0.154632"
      ]
     },
     "execution_count": 7,
     "metadata": {},
     "output_type": "execute_result"
    }
   ],
   "source": [
    "wf_df.describe()"
   ]
  },
  {
   "cell_type": "code",
   "execution_count": 8,
   "metadata": {},
   "outputs": [
    {
     "name": "stdout",
     "output_type": "stream",
     "text": [
      "Median of test Original column is 0.02237877001679314 [0.018188308743880364, 0.03018636968651768]\n",
      "Median of base Original column is 0.015412859323332417 [0.006643367017660434, 0.07153374519172542]\n",
      "Mann-Whitney statistical test results for feature Original are p-value=0.14341643221315398 (statistic=1405.0)\n",
      "\n",
      "Median of test Mean column is 0.11644411591219558 [0.10006621703299277, 0.12720349345496607]\n",
      "Median of base Mean column is 0.006428797657842369 [0.0028005027826177305, 0.0164218672523151]\n",
      "Mann-Whitney statistical test results for feature Mean are p-value=3.533035965194466e-18 (statistic=2500.0)\n",
      "\n",
      "Median of test SD column is 0.03395225415721932 [0.0272417678041492, 0.04106005209374072]\n",
      "Median of base SD column is 0.008452899647953545 [0.003568247727194304, 0.017628916892953532]\n",
      "Mann-Whitney statistical test results for feature SD are p-value=1.628023156627252e-12 (statistic=2261.0)\n",
      "\n",
      "Median of test Q25 column is 0.11715856826107693 [0.10239658339503573, 0.1363534815643678]\n",
      "Median of base Q25 column is 0.00564750961096978 [0.0027195713606471173, 0.014956359395109774]\n",
      "Mann-Whitney statistical test results for feature Q25 are p-value=3.984405787708299e-18 (statistic=2498.0)\n",
      "\n",
      "Median of test Median column is 0.10080403339187705 [0.08838286418289343, 0.11262807561367727]\n",
      "Median of base Median column is 0.006108722559345744 [0.0019246461551950212, 0.012447533139453328]\n",
      "Mann-Whitney statistical test results for feature Median are p-value=3.984405787708299e-18 (statistic=2498.0)\n",
      "\n",
      "Median of test Q75 column is 0.0881831812584826 [0.07105380911250109, 0.10075758580762216]\n",
      "Median of base Q75 column is 0.005606161021091636 [0.0019938221183272084, 0.015045771202752814]\n",
      "Mann-Whitney statistical test results for feature Q75 are p-value=6.060044905437509e-18 (statistic=2491.0)\n",
      "\n"
     ]
    }
   ],
   "source": [
    "wf_df_base = df_base[df_base.chunk_size == 50]\n",
    "wf_df_base = wf_df_base[wf_df_base.modality == 'morphological']\n",
    "\n",
    "wf_df_base = wf_df_base.drop(columns=drop)\n",
    "wf_df_base = wf_df_base.dropna(how='all', axis=1)\n",
    "wf_df_base = wf_df_base.rename(columns=mapper)\n",
    "\n",
    "for col in wf_df.columns:\n",
    "    col_test = wf_df[col].to_numpy()\n",
    "    col_base = wf_df_base[col].to_numpy()\n",
    "    \n",
    "    test_median, test_prec25, test_prec75 = np.percentile(col_test, [50, 25, 75])\n",
    "    base_median, base_prec25, base_prec75 = np.percentile(col_base, [50, 25, 75])\n",
    "    \n",
    "    print(f\"Median of test {col} column is {test_median} [{test_prec25}, {test_prec75}]\")\n",
    "    print(f\"Median of base {col} column is {base_median} [{base_prec25}, {base_prec75}]\")\n",
    "    \n",
    "    statistic, p_val = stats.mannwhitneyu(col_test, col_base, alternative='greater')\n",
    "    print(f\"Mann-Whitney statistical test results for feature {col} are p-value={p_val} (statistic={statistic})\")\n",
    "    print()"
   ]
  },
  {
   "cell_type": "code",
   "execution_count": 9,
   "metadata": {},
   "outputs": [
    {
     "name": "stdout",
     "output_type": "stream",
     "text": [
      "Mann-Whitney statistical test results for feature Mean are p-value=3.533035965194466e-18 (statistic=0.0)\n",
      "\n",
      "Mann-Whitney statistical test results for feature SD are p-value=1.2691302843148297e-06 (statistic=567.0)\n",
      "\n",
      "Mann-Whitney statistical test results for feature Q25 are p-value=3.533035965194466e-18 (statistic=0.0)\n",
      "\n",
      "Mann-Whitney statistical test results for feature Median are p-value=3.752027398590286e-18 (statistic=1.0)\n",
      "\n",
      "Mann-Whitney statistical test results for feature Q75 are p-value=2.2301221981921627e-17 (statistic=31.0)\n",
      "\n"
     ]
    }
   ],
   "source": [
    "for col in wf_df.columns:\n",
    "    if col == 'Original':\n",
    "        continue\n",
    "    col_test = wf_df[col].to_numpy()\n",
    "    col_test_original = wf_df['Original'].to_numpy()\n",
    "        \n",
    "    statistic, p_val = stats.mannwhitneyu(col_test, col_test_original)\n",
    "    print(f\"Mann-Whitney statistical test results for feature {col} are p-value={p_val} (statistic={statistic})\")\n",
    "    print()"
   ]
  },
  {
   "cell_type": "code",
   "execution_count": 10,
   "metadata": {},
   "outputs": [
    {
     "name": "stdout",
     "output_type": "stream",
     "text": [
      "Mann-Whitney statistical test results for feature Original are p-value=1.2691302843148297e-06 (statistic=567.0)\n",
      "\n",
      "Mann-Whitney statistical test results for feature Mean are p-value=5.37706962437211e-18 (statistic=7.0)\n",
      "\n",
      "Mann-Whitney statistical test results for feature Q25 are p-value=1.1658290633802667e-17 (statistic=20.0)\n",
      "\n",
      "Mann-Whitney statistical test results for feature Median are p-value=6.746610677097982e-17 (statistic=50.0)\n",
      "\n",
      "Mann-Whitney statistical test results for feature Q75 are p-value=2.766871909311284e-15 (statistic=116.0)\n",
      "\n"
     ]
    }
   ],
   "source": [
    "for col in wf_df.columns:\n",
    "    if col == 'SD':\n",
    "        continue\n",
    "    col_test = wf_df[col].to_numpy()\n",
    "    col_test_sd = wf_df['SD'].to_numpy()\n",
    "        \n",
    "    statistic, p_val = stats.mannwhitneyu(col_test, col_test_sd)\n",
    "    print(f\"Mann-Whitney statistical test results for feature {col} are p-value={p_val} (statistic={statistic})\")\n",
    "    print()"
   ]
  },
  {
   "cell_type": "markdown",
   "metadata": {},
   "source": [
    "## Events"
   ]
  },
  {
   "cell_type": "code",
   "execution_count": null,
   "metadata": {},
   "outputs": [],
   "source": [
    "PATH = 'ml/results_rf_events.csv'\n",
    "BASE = 'ml/results_rf_events_chance_balanced.csv'\n",
    "\n",
    "df = pd.read_csv(PATH, index_col=0)\n",
    "df = df[df.restriction == 'complete']\n",
    " \n",
    "df_base = pd.read_csv(BASE, index_col=0)\n",
    "df_base = df_base[df_base.restriction == 'complete']"
   ]
  },
  {
   "cell_type": "code",
   "execution_count": null,
   "metadata": {},
   "outputs": [],
   "source": [
    "events_names = ['FMC', 'NEG', 'SZC']"
   ]
  },
  {
   "cell_type": "code",
   "execution_count": null,
   "metadata": {},
   "outputs": [],
   "source": [
    "events_df = df[df.chunk_size == 25]\n",
    "\n",
    "keep = [f'test feature {i+1}' for i in np.arange(len(events_names))]\n",
    "drop = [c for c in events_df.columns if c not in keep]\n",
    "events_df = events_df.drop(columns=drop)\n",
    "\n",
    "mapper = {f'test feature {i+1}': events_names[i] for i in np.arange(len(events_names))}\n",
    "events_df = events_df.rename(columns=mapper)"
   ]
  },
  {
   "cell_type": "code",
   "execution_count": null,
   "metadata": {},
   "outputs": [],
   "source": [
    "events_df.describe()"
   ]
  },
  {
   "cell_type": "code",
   "execution_count": null,
   "metadata": {},
   "outputs": [],
   "source": [
    "events_df_base = df_base[df_base.chunk_size == 25]\n",
    "\n",
    "events_df_base = events_df_base.drop(columns=drop)\n",
    "events_df_base = events_df_base.dropna(how='all', axis=1)\n",
    "events_df_base = events_df_base.rename(columns=mapper)\n",
    "\n",
    "for col in events_df.columns:\n",
    "    col_test = events_df[col].to_numpy()\n",
    "    col_base = events_df_base[col].to_numpy()\n",
    "    \n",
    "    test_median, test_prec25, test_prec75 = np.percentile(col_test, [50, 25, 75])\n",
    "    base_median, base_prec25, base_prec75 = np.percentile(col_base, [50, 25, 75])\n",
    "    \n",
    "    print(f\"Median of test {col} column is {test_median} [{test_prec25}, {test_prec75}]\")\n",
    "    print(f\"Median of base {col} column is {base_median} [{base_prec25}, {base_prec75}]\")\n",
    "    \n",
    "    statistic, p_val = stats.mannwhitneyu(col_test, col_base, alternative='greater')\n",
    "    print(f\"Mann-Whitney statistical test results for feature {col} are p-value={p_val} (statistic={statistic})\")\n",
    "    print()"
   ]
  },
  {
   "cell_type": "code",
   "execution_count": null,
   "metadata": {},
   "outputs": [],
   "source": []
  }
 ],
 "metadata": {
  "kernelspec": {
   "display_name": "Python 3",
   "language": "python",
   "name": "python3"
  },
  "language_info": {
   "codemirror_mode": {
    "name": "ipython",
    "version": 3
   },
   "file_extension": ".py",
   "mimetype": "text/x-python",
   "name": "python",
   "nbconvert_exporter": "python",
   "pygments_lexer": "ipython3",
   "version": "3.9.1"
  }
 },
 "nbformat": 4,
 "nbformat_minor": 4
}
