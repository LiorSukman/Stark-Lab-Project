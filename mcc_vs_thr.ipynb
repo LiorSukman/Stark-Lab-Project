{
 "cells": [
  {
   "cell_type": "code",
   "execution_count": 1,
   "metadata": {},
   "outputs": [],
   "source": [
    "import ml.ML_util as ML_util\n",
    "\n",
    "import matplotlib.pyplot as plt\n",
    "import numpy as np\n",
    "import pandas as pd\n",
    "from sklearn.metrics import matthews_corrcoef"
   ]
  },
  {
   "cell_type": "code",
   "execution_count": 2,
   "metadata": {},
   "outputs": [],
   "source": [
    "PREDS_PATH = 'ml/preds_rf_with_dev.npy'\n",
    "DEV_PREDS_PATH = 'ml/preds_dev_rf_with_dev.npy'\n",
    "CSV_PATH = 'ml/results_rf_with_dev.csv'\n",
    "DATASETS_PATH = 'data_sets_dev_170322/'\n",
    "DEST = 'ml/results_rf_with_dev_up.csv'\n",
    "\n",
    "N_SEED = 2\n",
    "SEEDS = np.arange(N_SEED)\n",
    "N_CHUNKS = 8\n",
    "N_MOD = 3\n",
    "THRS = np.linspace(0.05, 0.95, 19)"
   ]
  },
  {
   "cell_type": "code",
   "execution_count": 3,
   "metadata": {},
   "outputs": [],
   "source": [
    "data_path = f\"{DATASETS_PATH}complete_{0}/morphological/0_0.650.150.2/\"\n",
    "_, dev, test, _, _, _ = ML_util.get_dataset(data_path)\n",
    "targets = [row[0][-1] for row in test]\n",
    "dev_targets = [row[0][-1] for row in dev]\n",
    "\n",
    "targets = np.asarray(targets)\n",
    "dev_targets = np.asarray(dev_targets)"
   ]
  },
  {
   "cell_type": "code",
   "execution_count": 5,
   "metadata": {},
   "outputs": [],
   "source": [
    "preds = np.load(PREDS_PATH)\n",
    "dev_preds = np.load(DEV_PREDS_PATH)"
   ]
  },
  {
   "cell_type": "code",
   "execution_count": 7,
   "metadata": {},
   "outputs": [],
   "source": [
    "def get_modality_cs(mat, n_m, n_cs):\n",
    "    mat_cs = mat[n_cs::N_CHUNKS]\n",
    "    mat_ret = mat_cs[n_m::N_MOD]\n",
    "    return mat_ret\n",
    "\n",
    "def choose_thrs(mccs):\n",
    "    mid = 9\n",
    "    ind = -1\n",
    "    max_mcc = mccs.max()\n",
    "    if max_mcc == mccs[mid]:\n",
    "        return 0.5\n",
    "    for i, val in enumerate(mccs):\n",
    "        if val != max_mcc:\n",
    "            continue\n",
    "        if ind == -1:\n",
    "            ind = i\n",
    "        else:\n",
    "            if abs(mid - i) < abs(mid - ind):\n",
    "                ind = i\n",
    "    return THRS[ind]"
   ]
  },
  {
   "cell_type": "code",
   "execution_count": 8,
   "metadata": {},
   "outputs": [],
   "source": [
    "dev_mccs = np.zeros((THRS.size, dev_preds.shape[0]))\n",
    "for i, threshold in enumerate(THRS):\n",
    "    dev_bin_preds = (dev_preds >= threshold).astype('int8')\n",
    "    dev_mccs_thr = np.asarray([matthews_corrcoef(dev_targets, bin_pred) for bin_pred in dev_bin_preds])\n",
    "    dev_mccs[i] = dev_mccs_thr\n",
    "dev_mccs = dev_mccs.T\n",
    "new_thrs = np.expand_dims(np.asarray([choose_thrs(dev_mcc) for dev_mcc in dev_mccs]), axis=1)"
   ]
  },
  {
   "cell_type": "code",
   "execution_count": 9,
   "metadata": {},
   "outputs": [],
   "source": [
    "test_bin_preds = (preds >= new_thrs).astype('int8')\n",
    "test_mccs = np.asarray([matthews_corrcoef(targets, bin_pred) for bin_pred in test_bin_preds])"
   ]
  },
  {
   "cell_type": "code",
   "execution_count": 11,
   "metadata": {},
   "outputs": [],
   "source": [
    "df = pd.read_csv(CSV_PATH)\n",
    "df['thr_mcc'] = test_mccs\n",
    "\n",
    "df.to_csv(path_or_buf=DEST, index=False, header=df.columns)"
   ]
  }
 ],
 "metadata": {
  "kernelspec": {
   "display_name": "Python 3",
   "language": "python",
   "name": "python3"
  },
  "language_info": {
   "codemirror_mode": {
    "name": "ipython",
    "version": 3
   },
   "file_extension": ".py",
   "mimetype": "text/x-python",
   "name": "python",
   "nbconvert_exporter": "python",
   "pygments_lexer": "ipython3",
   "version": "3.9.1"
  }
 },
 "nbformat": 4,
 "nbformat_minor": 4
}
