{
 "cells": [
  {
   "cell_type": "code",
   "execution_count": 1,
   "metadata": {},
   "outputs": [],
   "source": [
    "import pandas as pd\n",
    "import numpy as np\n",
    "import scipy.io as io\n",
    "import os"
   ]
  },
  {
   "cell_type": "markdown",
   "metadata": {},
   "source": [
    "## Figure 4"
   ]
  },
  {
   "cell_type": "code",
   "execution_count": 2,
   "metadata": {},
   "outputs": [],
   "source": [
    "PATH = 'cluster_data/clusterData_no_light_29_03_22/0'\n",
    "\n",
    "df = None\n",
    "files = os.listdir(PATH)\n",
    "for file in sorted(files):\n",
    "    if df is None:\n",
    "        df = pd.read_csv(PATH + '/' + file)\n",
    "    else:\n",
    "        temp = pd.read_csv(PATH + '/' + file)\n",
    "        df = df.append(temp)"
   ]
  },
  {
   "cell_type": "code",
   "execution_count": 3,
   "metadata": {},
   "outputs": [],
   "source": [
    "fields = ['fzc_sd', 'dep_sd', 'szc_sd']\n",
    "labels = df.label.to_numpy()\n",
    "data = df[fields].to_numpy()\n",
    "\n",
    "data_pyr = data[labels == 1] \n",
    "data_pv = data[labels == 0]"
   ]
  },
  {
   "cell_type": "code",
   "execution_count": 4,
   "metadata": {},
   "outputs": [],
   "source": [
    "data_dict = {'pyr': data_pyr, 'pv': data_pv}\n",
    "io.savemat('./statistics/fig4_data.mat', data_dict)"
   ]
  },
  {
   "cell_type": "markdown",
   "metadata": {},
   "source": [
    "## Reviewer 2 Comment 19"
   ]
  },
  {
   "cell_type": "code",
   "execution_count": 5,
   "metadata": {},
   "outputs": [],
   "source": [
    "fields = ['fzc_red', 'dep_red', 'szc_red']\n",
    "data = df[fields].to_numpy()\n",
    "\n",
    "data_pyr = data[labels == 1] \n",
    "data_pv = data[labels == 0]\n",
    "\n",
    "data_dict = {'pyr': data_pyr, 'pv': data_pv}\n",
    "io.savemat('./statistics/R2C19_time_lag_ss.mat', data_dict)"
   ]
  },
  {
   "cell_type": "code",
   "execution_count": 6,
   "metadata": {},
   "outputs": [],
   "source": [
    "fields = ['fzc_graph_slowest_path', 'dep_graph_slowest_path', 'szc_graph_slowest_path']\n",
    "data = df[fields].to_numpy()\n",
    "\n",
    "data_pyr = data[labels == 1] \n",
    "data_pv = data[labels == 0]\n",
    "\n",
    "data_dict = {'pyr': data_pyr, 'pv': data_pv}\n",
    "io.savemat('./statistics/R2C19_shortest_path.mat', data_dict)"
   ]
  },
  {
   "cell_type": "markdown",
   "metadata": {},
   "source": [
    "## Figure 5"
   ]
  },
  {
   "cell_type": "markdown",
   "metadata": {},
   "source": [
    "### Events"
   ]
  },
  {
   "cell_type": "code",
   "execution_count": 7,
   "metadata": {},
   "outputs": [],
   "source": [
    "PATH = 'ml/results_rf_events.csv'\n",
    "\n",
    "df = pd.read_csv(PATH, index_col=0)\n",
    "events_df = df[df.chunk_size == 25]\n",
    "\n",
    "FMC = np.expand_dims(events_df['test feature 1'].to_numpy(), axis=0)\n",
    "NEG = np.expand_dims(events_df['test feature 2'].to_numpy(), axis=0)\n",
    "SMC = np.expand_dims(events_df['test feature 3'].to_numpy(), axis=0)\n",
    "\n",
    "mat = np.concatenate((FMC, NEG, SMC))\n",
    "data_dict = {'events': mat.T}\n",
    "io.savemat('./statistics/fig5_data_events.mat', data_dict)"
   ]
  },
  {
   "cell_type": "markdown",
   "metadata": {},
   "source": [
    "### Spatial families"
   ]
  },
  {
   "cell_type": "code",
   "execution_count": 8,
   "metadata": {},
   "outputs": [],
   "source": [
    "PATH = 'ml/results_rf_families.csv'\n",
    "\n",
    "df = pd.read_csv(PATH, index_col=0)\n",
    "df = df[df.restriction == 'complete']\n",
    "\n",
    "family_df = df[df.chunk_size == 25]\n",
    "\n",
    "value = np.expand_dims(family_df['test feature 1'].to_numpy(), axis=0)\n",
    "time = np.expand_dims(family_df['test feature 2'].to_numpy(), axis=0)\n",
    "graph = np.expand_dims(family_df['test feature 3'].to_numpy(), axis=0)\n",
    "\n",
    "mat = np.concatenate((value, time, graph))\n",
    "data_dict = {'fams': mat.T}\n",
    "io.savemat('./statistics/fig5_data_fams.mat', data_dict)"
   ]
  },
  {
   "cell_type": "markdown",
   "metadata": {},
   "source": [
    "## Figure 6"
   ]
  },
  {
   "cell_type": "markdown",
   "metadata": {},
   "source": [
    "### CA1 training"
   ]
  },
  {
   "cell_type": "code",
   "execution_count": 21,
   "metadata": {},
   "outputs": [],
   "source": [
    "PATH = 'ml/results_rf_011022_rich_region_ca1_imp.csv'"
   ]
  },
  {
   "cell_type": "code",
   "execution_count": 22,
   "metadata": {},
   "outputs": [],
   "source": [
    "results = pd.read_csv(PATH, index_col=0)\n",
    "complete = results[results.restriction == 'complete']\n",
    "complete = complete.dropna(how='all', axis=1)"
   ]
  },
  {
   "cell_type": "markdown",
   "metadata": {},
   "source": [
    "### Performance decrease"
   ]
  },
  {
   "cell_type": "code",
   "execution_count": 23,
   "metadata": {},
   "outputs": [],
   "source": [
    "cs_50 = complete[complete.chunk_size == 50]\n",
    "cs_wf = cs_50[cs_50.modality == 'morphological']\n",
    "wf_aucs = cs_wf.auc.to_numpy()\n",
    "wf_dev_aucs = cs_wf.dev_auc.to_numpy()\n",
    "\n",
    "cs_1600 = complete[complete.chunk_size == 1600]\n",
    "cs_temp = cs_1600[cs_1600.modality == 'temporal']\n",
    "temp_aucs = cs_temp.auc.to_numpy()\n",
    "temp_dev_aucs = cs_temp.dev_auc.to_numpy()\n",
    "\n",
    "cs_25 = complete[complete.chunk_size == 25]\n",
    "cs_spat = cs_25[cs_25.modality == 'spatial']\n",
    "spat_aucs = cs_spat.auc.to_numpy()\n",
    "spat_dev_aucs = cs_spat.dev_auc.to_numpy()\n",
    "\n",
    "wf_diff = np.expand_dims(100 * (wf_dev_aucs - wf_aucs) / wf_dev_aucs, axis=0)\n",
    "temp_diff = np.expand_dims(100 * (temp_dev_aucs - temp_aucs) / temp_dev_aucs, axis=0)\n",
    "spat_diff = np.expand_dims(100 * (spat_dev_aucs - spat_aucs) / spat_dev_aucs, axis=0)\n",
    "\n",
    "mat = np.concatenate((wf_diff, temp_diff, spat_diff))\n",
    "data_dict = {'diff': mat.T}\n",
    "io.savemat('./statistics/fig6_CA1_data_diff.mat', data_dict)"
   ]
  },
  {
   "cell_type": "markdown",
   "metadata": {},
   "source": [
    "### nCX performance"
   ]
  },
  {
   "cell_type": "code",
   "execution_count": 24,
   "metadata": {},
   "outputs": [],
   "source": [
    "wf_aucs = np.expand_dims(wf_aucs, axis=0)\n",
    "temp_aucs = np.expand_dims(temp_aucs, axis=0)\n",
    "spat_aucs = np.expand_dims(spat_aucs, axis=0)"
   ]
  },
  {
   "cell_type": "code",
   "execution_count": 25,
   "metadata": {},
   "outputs": [],
   "source": [
    "df_cmat = np.concatenate((wf_aucs, temp_aucs, spat_aucs))\n",
    "data_dict = {'ncx': df_cmat.T}\n",
    "io.savemat('./statistics/fig6_CA1_data_nCX.mat', data_dict)"
   ]
  },
  {
   "cell_type": "markdown",
   "metadata": {},
   "source": [
    "### nCX training"
   ]
  },
  {
   "cell_type": "code",
   "execution_count": 26,
   "metadata": {},
   "outputs": [],
   "source": [
    "PATH = 'ml/results_rf_300922_rich_region_ncx_imp.csv'"
   ]
  },
  {
   "cell_type": "code",
   "execution_count": 27,
   "metadata": {},
   "outputs": [],
   "source": [
    "results = pd.read_csv(PATH, index_col=0)\n",
    "complete = results[results.restriction == 'complete']\n",
    "complete = complete.dropna(how='all', axis=1)"
   ]
  },
  {
   "cell_type": "markdown",
   "metadata": {},
   "source": [
    "### Performance decrease"
   ]
  },
  {
   "cell_type": "code",
   "execution_count": 28,
   "metadata": {},
   "outputs": [],
   "source": [
    "cs_50 = complete[complete.chunk_size == 50]\n",
    "cs_wf = cs_50[cs_50.modality == 'morphological']\n",
    "wf_aucs = cs_wf.auc.to_numpy()\n",
    "wf_dev_aucs = cs_wf.dev_auc.to_numpy()\n",
    "\n",
    "cs_1600 = complete[complete.chunk_size == 1600]\n",
    "cs_temp = cs_1600[cs_1600.modality == 'temporal']\n",
    "temp_aucs = cs_temp.auc.to_numpy()\n",
    "temp_dev_aucs = cs_temp.dev_auc.to_numpy()\n",
    "\n",
    "cs_25 = complete[complete.chunk_size == 25]\n",
    "cs_spat = cs_25[cs_25.modality == 'spatial']\n",
    "spat_aucs = cs_spat.auc.to_numpy()\n",
    "spat_dev_aucs = cs_spat.dev_auc.to_numpy()\n",
    "\n",
    "wf_diff = np.expand_dims(100 * (wf_dev_aucs - wf_aucs) / wf_dev_aucs, axis=0)\n",
    "temp_diff = np.expand_dims(100 * (temp_dev_aucs - temp_aucs) / temp_dev_aucs, axis=0)\n",
    "spat_diff = np.expand_dims(100 * (spat_dev_aucs - spat_aucs) / spat_dev_aucs, axis=0)\n",
    "\n",
    "mat = np.concatenate((wf_diff, temp_diff, spat_diff))\n",
    "data_dict = {'diff': mat.T}\n",
    "io.savemat('./statistics/fig6_nCX_data_diff.mat', data_dict)"
   ]
  },
  {
   "cell_type": "markdown",
   "metadata": {},
   "source": [
    "### CA1 performance"
   ]
  },
  {
   "cell_type": "code",
   "execution_count": 29,
   "metadata": {},
   "outputs": [],
   "source": [
    "wf_aucs = np.expand_dims(wf_aucs, axis=0)\n",
    "temp_aucs = np.expand_dims(temp_aucs, axis=0)\n",
    "spat_aucs = np.expand_dims(spat_aucs, axis=0)"
   ]
  },
  {
   "cell_type": "code",
   "execution_count": 30,
   "metadata": {},
   "outputs": [],
   "source": [
    "df_cmat = np.concatenate((wf_aucs, temp_aucs, spat_aucs))\n",
    "data_dict = {'ca1': df_cmat.T}\n",
    "io.savemat('./statistics/fig6_nCX_data_CA1.mat', data_dict)"
   ]
  },
  {
   "cell_type": "markdown",
   "metadata": {},
   "source": [
    "## Appendix C"
   ]
  },
  {
   "cell_type": "code",
   "execution_count": 19,
   "metadata": {},
   "outputs": [],
   "source": [
    "PATH = 'ml/results_rf_combined_v2.csv'\n",
    "\n",
    "results = pd.read_csv(PATH, index_col=0)\n",
    "\n",
    "complete = results[results.restriction == 'complete']\n",
    "complete = complete.dropna(how='all', axis=1)\n",
    "\n",
    "spat_res = complete[complete.modality == 'spatial']\n",
    "\n",
    "spat_0 = np.expand_dims(spat_res[spat_res.chunk_size == 0].auc.to_numpy(), axis=0)\n",
    "spat_1 = np.expand_dims(spat_res[spat_res.chunk_size == 1].auc.to_numpy(), axis=0)\n",
    "spat_5 = np.expand_dims(spat_res[spat_res.chunk_size == 5].auc.to_numpy(), axis=0)\n",
    "spat_10 = np.expand_dims(spat_res[spat_res.chunk_size == 10].auc.to_numpy(), axis=0)\n",
    "spat_25 = np.expand_dims(spat_res[spat_res.chunk_size == 25].auc.to_numpy(), axis=0)\n",
    "spat_50 = np.expand_dims(spat_res[spat_res.chunk_size == 50].auc.to_numpy(), axis=0)\n",
    "spat_100 = np.expand_dims(spat_res[spat_res.chunk_size == 100].auc.to_numpy(), axis=0)\n",
    "spat_200 = np.expand_dims(spat_res[spat_res.chunk_size == 200].auc.to_numpy(), axis=0)\n",
    "spat_400 = np.expand_dims(spat_res[spat_res.chunk_size == 400].auc.to_numpy(), axis=0)\n",
    "spat_800 = np.expand_dims(spat_res[spat_res.chunk_size == 800].auc.to_numpy(), axis=0)\n",
    "spat_1600 = np.expand_dims(spat_res[spat_res.chunk_size == 1600].auc.to_numpy(), axis=0)"
   ]
  },
  {
   "cell_type": "code",
   "execution_count": 20,
   "metadata": {},
   "outputs": [],
   "source": [
    "mat = np.concatenate((spat_0, spat_1, spat_5, spat_10, spat_25, spat_50, spat_100, spat_200, spat_400, spat_800, spat_1600))\n",
    "data_dict = {'apc': mat.T}\n",
    "io.savemat('./statistics/ApC_data_statistics_chunking.mat', data_dict)"
   ]
  },
  {
   "cell_type": "code",
   "execution_count": null,
   "metadata": {},
   "outputs": [],
   "source": []
  }
 ],
 "metadata": {
  "kernelspec": {
   "display_name": "Python 3",
   "language": "python",
   "name": "python3"
  },
  "language_info": {
   "codemirror_mode": {
    "name": "ipython",
    "version": 3
   },
   "file_extension": ".py",
   "mimetype": "text/x-python",
   "name": "python",
   "nbconvert_exporter": "python",
   "pygments_lexer": "ipython3",
   "version": "3.9.1"
  }
 },
 "nbformat": 4,
 "nbformat_minor": 4
}
