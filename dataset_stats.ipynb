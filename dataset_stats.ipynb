{
 "cells": [
  {
   "cell_type": "code",
   "execution_count": 1,
   "metadata": {},
   "outputs": [],
   "source": [
    "import numpy as np\n",
    "import scipy.io as io"
   ]
  },
  {
   "cell_type": "code",
   "execution_count": 2,
   "metadata": {},
   "outputs": [],
   "source": [
    "PATH = 'CelltypeClassification.mat'\n",
    "mat = io.loadmat(PATH, simplify_cells=True)['sPV']"
   ]
  },
  {
   "cell_type": "code",
   "execution_count": 3,
   "metadata": {},
   "outputs": [],
   "source": [
    "fn = mat['filename']\n",
    "region = mat['region']\n",
    "shankclu = mat['shankclu']\n",
    "act = mat['act']\n",
    "exc = mat['exc']\n",
    "inh = mat['inh']"
   ]
  },
  {
   "cell_type": "code",
   "execution_count": 4,
   "metadata": {},
   "outputs": [
    {
     "name": "stdout",
     "output_type": "stream",
     "text": [
      "original number of units is 980\n",
      "of them, 781 from CA1 and 199 from the NCX\n",
      "In total 445 were tagged\n",
      "In total 424 were tagged as excitatory\n",
      "In total 21 were tagged as inhibitory\n",
      "In total 98 were tagged as optically activated\n",
      "of the inhibitory units 13 were optically activated\n",
      "of the excitatory units 4 were optically activated\n",
      "of the inhibitory units 13 were optically activated\n",
      "In total 522 were labeled as PYR or PV\n",
      "Total PYR is 420\n",
      "Total PV is 102\n"
     ]
    }
   ],
   "source": [
    "inds = [i for i in range(len(fn)) if fn[i] not in ['es12mar12_2', 'es17mar12_1', 'es17mar12_2', 'es25mar12_6']]  # animal 401 - linear probe\n",
    "region[region > 1] = 1\n",
    "print(f'original number of units is {len(inds)}')\n",
    "print(f'of them, {region[inds].sum()} from CA1 and {(region[inds]==0).sum()} from the NCX')\n",
    "\n",
    "print(f'In total {(exc[inds] + inh[inds] >= 1).sum()} were tagged')\n",
    "print(f'In total {exc[inds].sum()} were tagged as excitatory')\n",
    "print(f'In total {inh[inds].sum()} were tagged as inhibitory')\n",
    "print(f'In total {act[inds].sum()} were tagged as optically activated')\n",
    "\n",
    "inh_inds = [i for i in inds if inh[i]]\n",
    "print(f'of the inhibitory units {act[inh_inds].sum()} were optically activated')\n",
    "\n",
    "opt_inds = [i for i in inds if act[i]]\n",
    "print(f'of the excitatory units {exc[opt_inds].sum()} were optically activated')\n",
    "print(f'of the inhibitory units {inh[opt_inds].sum()} were optically activated')\n",
    "\n",
    "inds = [i for i in inds if 0 < act[i] + exc[i] + inh[i]]  # no tagging\n",
    "inds = [i for i in inds if act[i] + exc[i] < 2]  # double tagging\n",
    "inds = [i for i in inds if inh[i] + exc[i] < 2]  # double tagging\n",
    "\n",
    "print(f'In total {len(inds)} were labeled as PYR or PV')\n",
    "print(f'Total PYR is {exc[inds].sum()}')\n",
    "print(f'Total PV is {((inh[inds] + act[inds]) != 0).sum()}')"
   ]
  },
  {
   "cell_type": "code",
   "execution_count": 5,
   "metadata": {},
   "outputs": [
    {
     "name": "stdout",
     "output_type": "stream",
     "text": [
      "10 were recorded using seven instead of eight channels\n",
      "of them, 9 PYR and 1 PV\n"
     ]
    }
   ],
   "source": [
    "inds7 = [i for i in inds if (fn[i] in ['m649r1_16', 'm649r1_17', 'm649r1_19', 'm649r1_21', 'm649r1_22']\n",
    "                                and shankclu[i][0] == 1)]  # not 8 channels\n",
    "print(f'{len(inds7)} were recorded using seven instead of eight channels')\n",
    "print(f'of them, {exc[inds7].sum()} PYR and {((inh[inds7] + act[inds7]) != 0).sum()} PV')"
   ]
  },
  {
   "cell_type": "code",
   "execution_count": 6,
   "metadata": {},
   "outputs": [
    {
     "name": "stdout",
     "output_type": "stream",
     "text": [
      "In total 512 were labeled as PYR or PV\n",
      "Total PYR is 411\n",
      "Total PV is 101\n"
     ]
    }
   ],
   "source": [
    "inds = [i for i in inds if not (fn[i] in ['m649r1_16', 'm649r1_17', 'm649r1_19', 'm649r1_21', 'm649r1_22']\n",
    "                                and shankclu[i][0] == 1)]  # not 8 channel\n",
    "print(f'In total {len(inds)} were labeled as PYR or PV')\n",
    "print(f'Total PYR is {exc[inds].sum()}')\n",
    "print(f'Total PV is {((inh[inds] + act[inds]) != 0).sum()}')"
   ]
  },
  {
   "cell_type": "code",
   "execution_count": 7,
   "metadata": {},
   "outputs": [
    {
     "name": "stdout",
     "output_type": "stream",
     "text": [
      "of the optically activated, 71 from CA1 and 27 from the NCX\n"
     ]
    }
   ],
   "source": [
    "print(f'of the optically activated, {region[opt_inds].sum()} from CA1 and {(region[opt_inds]==0).sum()} from the NCX')"
   ]
  },
  {
   "cell_type": "code",
   "execution_count": 8,
   "metadata": {},
   "outputs": [
    {
     "name": "stdout",
     "output_type": "stream",
     "text": [
      "of the pyramidal cells, 377 from CA1 and 34 from the NCX\n"
     ]
    }
   ],
   "source": [
    "pyr_inds = [i for i in inds if exc[i]]  # not 8 channel\n",
    "print(f'of the pyramidal cells, {region[pyr_inds].sum()} from CA1 and {(region[pyr_inds]==0).sum()} from the NCX')"
   ]
  },
  {
   "cell_type": "code",
   "execution_count": 9,
   "metadata": {},
   "outputs": [
    {
     "name": "stdout",
     "output_type": "stream",
     "text": [
      "Number of cells from nCX in final dataset is 63\n"
     ]
    }
   ],
   "source": [
    "print(f'Number of cells from nCX in final dataset is {(region[inds] == 0).sum()}')"
   ]
  },
  {
   "cell_type": "code",
   "execution_count": 10,
   "metadata": {},
   "outputs": [
    {
     "name": "stdout",
     "output_type": "stream",
     "text": [
      "Number of activated cells in PV group is 93\n",
      "Number of inhibiting cells in PV group is 21\n",
      "Number of cross cells in PV group is 13\n"
     ]
    }
   ],
   "source": [
    "pv_inds = [i for i in inds if inh[i] + act[i] > 0]\n",
    "print(f'Number of activated cells in PV group is {act[pv_inds].sum()}')\n",
    "print(f'Number of inhibiting cells in PV group is {inh[pv_inds].sum()}')\n",
    "print(f'Number of cross cells in PV group is {(inh * act)[pv_inds].sum()}')"
   ]
  },
  {
   "cell_type": "code",
   "execution_count": null,
   "metadata": {},
   "outputs": [],
   "source": []
  }
 ],
 "metadata": {
  "kernelspec": {
   "display_name": "Python 3",
   "language": "python",
   "name": "python3"
  },
  "language_info": {
   "codemirror_mode": {
    "name": "ipython",
    "version": 3
   },
   "file_extension": ".py",
   "mimetype": "text/x-python",
   "name": "python",
   "nbconvert_exporter": "python",
   "pygments_lexer": "ipython3",
   "version": "3.9.1"
  }
 },
 "nbformat": 4,
 "nbformat_minor": 4
}
