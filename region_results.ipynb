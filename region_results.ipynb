{
 "cells": [
  {
   "cell_type": "code",
   "execution_count": 1,
   "metadata": {},
   "outputs": [],
   "source": [
    "import pandas as pd\n",
    "import numpy as np\n",
    "import scipy.stats as stats\n",
    "import scipy.io as io\n",
    "\n",
    "pd.options.display.max_rows = 500\n",
    "pd.options.display.max_columns = 500"
   ]
  },
  {
   "cell_type": "code",
   "execution_count": 2,
   "metadata": {},
   "outputs": [],
   "source": [
    "PATH = 'ml/results_rf_300922_rich_region_ncx_imp.csv' # change to path of interest\n",
    "#PATH = 'ml/results_rf_011022_rich_region_ca1_imp.csv'"
   ]
  },
  {
   "cell_type": "code",
   "execution_count": 3,
   "metadata": {},
   "outputs": [
    {
     "data": {
      "text/html": [
       "<div>\n",
       "<style scoped>\n",
       "    .dataframe tbody tr th:only-of-type {\n",
       "        vertical-align: middle;\n",
       "    }\n",
       "\n",
       "    .dataframe tbody tr th {\n",
       "        vertical-align: top;\n",
       "    }\n",
       "\n",
       "    .dataframe thead th {\n",
       "        text-align: right;\n",
       "    }\n",
       "</style>\n",
       "<table border=\"1\" class=\"dataframe\">\n",
       "  <thead>\n",
       "    <tr style=\"text-align: right;\">\n",
       "      <th></th>\n",
       "      <th></th>\n",
       "      <th></th>\n",
       "      <th></th>\n",
       "      <th>auc</th>\n",
       "      <th>dev_auc</th>\n",
       "    </tr>\n",
       "    <tr>\n",
       "      <th>restriction</th>\n",
       "      <th>modality</th>\n",
       "      <th>chunk_size</th>\n",
       "      <th></th>\n",
       "      <th></th>\n",
       "      <th></th>\n",
       "    </tr>\n",
       "  </thead>\n",
       "  <tbody>\n",
       "    <tr>\n",
       "      <th rowspan=\"9\" valign=\"top\">complete</th>\n",
       "      <th rowspan=\"3\" valign=\"top\">morphological</th>\n",
       "      <th rowspan=\"3\" valign=\"top\">50.0</th>\n",
       "      <th>0.25</th>\n",
       "      <td>0.979107</td>\n",
       "      <td>0.931548</td>\n",
       "    </tr>\n",
       "    <tr>\n",
       "      <th>0.50</th>\n",
       "      <td>0.989473</td>\n",
       "      <td>1.000000</td>\n",
       "    </tr>\n",
       "    <tr>\n",
       "      <th>0.75</th>\n",
       "      <td>0.993479</td>\n",
       "      <td>1.000000</td>\n",
       "    </tr>\n",
       "    <tr>\n",
       "      <th rowspan=\"3\" valign=\"top\">spatial</th>\n",
       "      <th rowspan=\"3\" valign=\"top\">25.0</th>\n",
       "      <th>0.25</th>\n",
       "      <td>0.859633</td>\n",
       "      <td>0.833333</td>\n",
       "    </tr>\n",
       "    <tr>\n",
       "      <th>0.50</th>\n",
       "      <td>0.892711</td>\n",
       "      <td>0.928571</td>\n",
       "    </tr>\n",
       "    <tr>\n",
       "      <th>0.75</th>\n",
       "      <td>0.917919</td>\n",
       "      <td>1.000000</td>\n",
       "    </tr>\n",
       "    <tr>\n",
       "      <th rowspan=\"3\" valign=\"top\">temporal</th>\n",
       "      <th rowspan=\"3\" valign=\"top\">1600.0</th>\n",
       "      <th>0.25</th>\n",
       "      <td>0.835152</td>\n",
       "      <td>0.785714</td>\n",
       "    </tr>\n",
       "    <tr>\n",
       "      <th>0.50</th>\n",
       "      <td>0.856690</td>\n",
       "      <td>0.857143</td>\n",
       "    </tr>\n",
       "    <tr>\n",
       "      <th>0.75</th>\n",
       "      <td>0.871988</td>\n",
       "      <td>0.928571</td>\n",
       "    </tr>\n",
       "  </tbody>\n",
       "</table>\n",
       "</div>"
      ],
      "text/plain": [
       "                                                auc   dev_auc\n",
       "restriction modality      chunk_size                         \n",
       "complete    morphological 50.0       0.25  0.979107  0.931548\n",
       "                                     0.50  0.989473  1.000000\n",
       "                                     0.75  0.993479  1.000000\n",
       "            spatial       25.0       0.25  0.859633  0.833333\n",
       "                                     0.50  0.892711  0.928571\n",
       "                                     0.75  0.917919  1.000000\n",
       "            temporal      1600.0     0.25  0.835152  0.785714\n",
       "                                     0.50  0.856690  0.857143\n",
       "                                     0.75  0.871988  0.928571"
      ]
     },
     "execution_count": 3,
     "metadata": {},
     "output_type": "execute_result"
    }
   ],
   "source": [
    "results = pd.read_csv(PATH, index_col=0)\n",
    "complete = results[results.restriction == 'complete']\n",
    "complete = complete.dropna(how='all', axis=1)\n",
    "grouped_complete = complete.groupby(by=['restriction', 'modality', 'chunk_size'])\n",
    "grouped_complete[['auc', 'dev_auc']].quantile(q=[0.25, 0.5, 0.75])"
   ]
  },
  {
   "cell_type": "code",
   "execution_count": 4,
   "metadata": {},
   "outputs": [
    {
     "name": "stdout",
     "output_type": "stream",
     "text": [
      "Mann-Whitney statistical test results for WF are p-value=2.710606856804625e-05 (statistic=678.0)\n",
      "\n",
      "Mann-Whitney statistical test results for temporal are p-value=0.2292378148407504 (statistic=1142.0)\n",
      "\n",
      "Mann-Whitney statistical test results for spatial are p-value=0.02767351210046492 (statistic=972.0)\n",
      "\n"
     ]
    }
   ],
   "source": [
    "wf_ca1 = complete[complete.modality == 'morphological'].dev_auc.to_numpy()\n",
    "wf_ncx = complete[complete.modality == 'morphological'].auc.to_numpy()\n",
    "\n",
    "temp_ca1 = complete[complete.modality == 'temporal'].dev_auc.to_numpy()\n",
    "temp_ncx = complete[complete.modality == 'temporal'].auc.to_numpy()\n",
    "\n",
    "spat_ca1 = complete[complete.modality == 'spatial'].dev_auc.to_numpy()\n",
    "spat_ncx = complete[complete.modality == 'spatial'].auc.to_numpy()\n",
    "\n",
    "statistic, p_val = stats.mannwhitneyu(wf_ca1, wf_ncx)\n",
    "print(f\"Mann-Whitney statistical test results for WF are p-value={p_val} (statistic={statistic})\")\n",
    "print()\n",
    "\n",
    "statistic, p_val = stats.mannwhitneyu(temp_ca1, temp_ncx)\n",
    "print(f\"Mann-Whitney statistical test results for temporal are p-value={p_val} (statistic={statistic})\")\n",
    "print()\n",
    "\n",
    "statistic, p_val = stats.mannwhitneyu(spat_ca1, spat_ncx)\n",
    "print(f\"Mann-Whitney statistical test results for spatial are p-value={p_val} (statistic={statistic})\")\n",
    "print()"
   ]
  },
  {
   "cell_type": "code",
   "execution_count": 5,
   "metadata": {},
   "outputs": [],
   "source": [
    "cs_50 = complete[complete.chunk_size == 50]\n",
    "cs_wf = cs_50[cs_50.modality == 'morphological']\n",
    "wf_aucs = cs_wf.auc.to_numpy()\n",
    "wf_dev_aucs = cs_wf.dev_auc.to_numpy()\n",
    "\n",
    "cs_1600 = complete[complete.chunk_size == 1600]\n",
    "cs_temp = cs_1600[cs_1600.modality == 'temporal']\n",
    "temp_aucs = cs_temp.auc.to_numpy()\n",
    "temp_dev_aucs = cs_temp.dev_auc.to_numpy()\n",
    "\n",
    "cs_25 = complete[complete.chunk_size == 25]\n",
    "cs_spat = cs_25[cs_25.modality == 'spatial']\n",
    "spat_aucs = cs_spat.auc.to_numpy()\n",
    "spat_dev_aucs = cs_spat.dev_auc.to_numpy()"
   ]
  },
  {
   "cell_type": "code",
   "execution_count": 6,
   "metadata": {},
   "outputs": [
    {
     "name": "stdout",
     "output_type": "stream",
     "text": [
      "Median of WF column is  0.637 [-4.799,  1.037]\n",
      "Median of temporal column is  3.767 [-9.271,  8.441]\n",
      "Median of spatial column is  3.858 [-4.174,  8.011]\n",
      "\n",
      "Wilcoxon statistical test results for wf are p-value=0.3129442963477801 (statistic=688.0)\n",
      "Wilcoxon statistical test results for spatial are p-value=0.02646556476380306 (statistic=838.0)\n",
      "Wilcoxon statistical test results for temporal p-value=0.3095438064717788 (statistic=689.0)\n",
      "\n"
     ]
    }
   ],
   "source": [
    "wf_diff = 100 * (wf_dev_aucs - wf_aucs) / wf_dev_aucs\n",
    "temp_diff = 100 * (temp_dev_aucs - temp_aucs) / temp_dev_aucs\n",
    "spat_diff = 100 * (spat_dev_aucs - spat_aucs) / spat_dev_aucs\n",
    "\n",
    "wf_median, wf_prec25, wf_prec75 = np.percentile(wf_diff, [50, 25, 75])\n",
    "print(f\"Median of WF column is {wf_median: .3f} [{wf_prec25: .3f}, {wf_prec75: .3f}]\")\n",
    "temp_median, temp_prec25, temp_prec75 = np.percentile(temp_diff, [50, 25, 75])\n",
    "print(f\"Median of temporal column is {temp_median: .3f} [{temp_prec25: .3f}, {temp_prec75: .3f}]\")\n",
    "spat_median, spat_prec25, spat_prec75 = np.percentile(spat_diff, [50, 25, 75])\n",
    "print(f\"Median of spatial column is {spat_median: .3f} [{spat_prec25: .3f}, {spat_prec75: .3f}]\\n\")\n",
    "\n",
    "statistic, p_val = stats.wilcoxon(wf_dev_aucs, wf_aucs, alternative='greater')\n",
    "print(f\"Wilcoxon statistical test results for wf are p-value={p_val} (statistic={statistic})\")\n",
    "statistic, p_val = stats.wilcoxon(spat_dev_aucs, spat_aucs, alternative='greater')\n",
    "print(f\"Wilcoxon statistical test results for spatial are p-value={p_val} (statistic={statistic})\")\n",
    "statistic, p_val = stats.wilcoxon(temp_dev_aucs, temp_aucs, alternative='greater')\n",
    "print(f\"Wilcoxon statistical test results for temporal p-value={p_val} (statistic={statistic})\\n\")"
   ]
  },
  {
   "cell_type": "code",
   "execution_count": 7,
   "metadata": {},
   "outputs": [
    {
     "name": "stdout",
     "output_type": "stream",
     "text": [
      "Mann-Whitney statistical test results for wf inter-region auc are p-value=7.538154154994469e-10 (statistic=0.0)\n",
      "Mann-Whitney statistical test results for spatial inter-region auc are p-value=7.556929455863566e-10 (statistic=0.0)\n",
      "Mann-Whitney statistical test results for temporal inter-region auc are p-value=7.556929455863566e-10 (statistic=0.0)\n",
      "Mann-Whitney statistical test results for wf intra-region auc are p-value=1.0615816718159337e-10 (statistic=0.0)\n",
      "Mann-Whitney statistical test results for spatial intra-region auc are p-value=6.683205687297161e-10 (statistic=0.0)\n",
      "Mann-Whitney statistical test results for temporal intra-region auc are p-value=7.349358852455706e-10 (statistic=0.0)\n"
     ]
    }
   ],
   "source": [
    "statistic, p_val = stats.wilcoxon(wf_aucs - 0.5)\n",
    "print(f\"Mann-Whitney statistical test results for wf inter-region auc are p-value={p_val} (statistic={statistic})\")\n",
    "statistic, p_val = stats.wilcoxon(spat_aucs - 0.5)\n",
    "print(f\"Mann-Whitney statistical test results for spatial inter-region auc are p-value={p_val} (statistic={statistic})\")\n",
    "statistic, p_val = stats.wilcoxon(temp_aucs - 0.5)\n",
    "print(f\"Mann-Whitney statistical test results for temporal inter-region auc are p-value={p_val} (statistic={statistic})\")\n",
    "\n",
    "statistic, p_val = stats.wilcoxon(wf_dev_aucs - 0.5)\n",
    "print(f\"Mann-Whitney statistical test results for wf intra-region auc are p-value={p_val} (statistic={statistic})\")\n",
    "statistic, p_val = stats.wilcoxon(spat_dev_aucs - 0.5)\n",
    "print(f\"Mann-Whitney statistical test results for spatial intra-region auc are p-value={p_val} (statistic={statistic})\")\n",
    "statistic, p_val = stats.wilcoxon(temp_dev_aucs - 0.5)\n",
    "print(f\"Mann-Whitney statistical test results for temporal intra-region auc are p-value={p_val} (statistic={statistic})\")"
   ]
  }
 ],
 "metadata": {
  "kernelspec": {
   "display_name": "Python 3",
   "language": "python",
   "name": "python3"
  },
  "language_info": {
   "codemirror_mode": {
    "name": "ipython",
    "version": 3
   },
   "file_extension": ".py",
   "mimetype": "text/x-python",
   "name": "python",
   "nbconvert_exporter": "python",
   "pygments_lexer": "ipython3",
   "version": "3.9.1"
  }
 },
 "nbformat": 4,
 "nbformat_minor": 4
}
