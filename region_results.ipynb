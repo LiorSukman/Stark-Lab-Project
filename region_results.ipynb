{
 "cells": [
  {
   "cell_type": "code",
   "execution_count": 1,
   "metadata": {},
   "outputs": [],
   "source": [
    "import pandas as pd\n",
    "import numpy as np\n",
    "import scipy.stats as stats\n",
    "import scipy.io as io\n",
    "\n",
    "pd.options.display.max_rows = 500\n",
    "pd.options.display.max_columns = 500"
   ]
  },
  {
   "cell_type": "code",
   "execution_count": 7,
   "metadata": {},
   "outputs": [],
   "source": [
    "PATH = 'ml/results_rf_300922_rich_region_ncx_imp.csv'"
   ]
  },
  {
   "cell_type": "code",
   "execution_count": 8,
   "metadata": {},
   "outputs": [
    {
     "data": {
      "text/html": [
       "<div>\n",
       "<style scoped>\n",
       "    .dataframe tbody tr th:only-of-type {\n",
       "        vertical-align: middle;\n",
       "    }\n",
       "\n",
       "    .dataframe tbody tr th {\n",
       "        vertical-align: top;\n",
       "    }\n",
       "\n",
       "    .dataframe thead th {\n",
       "        text-align: right;\n",
       "    }\n",
       "</style>\n",
       "<table border=\"1\" class=\"dataframe\">\n",
       "  <thead>\n",
       "    <tr style=\"text-align: right;\">\n",
       "      <th></th>\n",
       "      <th></th>\n",
       "      <th></th>\n",
       "      <th></th>\n",
       "      <th>auc</th>\n",
       "      <th>dev_auc</th>\n",
       "    </tr>\n",
       "    <tr>\n",
       "      <th>restriction</th>\n",
       "      <th>modality</th>\n",
       "      <th>chunk_size</th>\n",
       "      <th></th>\n",
       "      <th></th>\n",
       "      <th></th>\n",
       "    </tr>\n",
       "  </thead>\n",
       "  <tbody>\n",
       "    <tr>\n",
       "      <th rowspan=\"9\" valign=\"top\">complete</th>\n",
       "      <th rowspan=\"3\" valign=\"top\">morphological</th>\n",
       "      <th rowspan=\"3\" valign=\"top\">50.0</th>\n",
       "      <th>0.25</th>\n",
       "      <td>0.979107</td>\n",
       "      <td>0.931548</td>\n",
       "    </tr>\n",
       "    <tr>\n",
       "      <th>0.50</th>\n",
       "      <td>0.989473</td>\n",
       "      <td>1.000000</td>\n",
       "    </tr>\n",
       "    <tr>\n",
       "      <th>0.75</th>\n",
       "      <td>0.993479</td>\n",
       "      <td>1.000000</td>\n",
       "    </tr>\n",
       "    <tr>\n",
       "      <th rowspan=\"3\" valign=\"top\">spatial</th>\n",
       "      <th rowspan=\"3\" valign=\"top\">25.0</th>\n",
       "      <th>0.25</th>\n",
       "      <td>0.859633</td>\n",
       "      <td>0.833333</td>\n",
       "    </tr>\n",
       "    <tr>\n",
       "      <th>0.50</th>\n",
       "      <td>0.892711</td>\n",
       "      <td>0.928571</td>\n",
       "    </tr>\n",
       "    <tr>\n",
       "      <th>0.75</th>\n",
       "      <td>0.917919</td>\n",
       "      <td>1.000000</td>\n",
       "    </tr>\n",
       "    <tr>\n",
       "      <th rowspan=\"3\" valign=\"top\">temporal</th>\n",
       "      <th rowspan=\"3\" valign=\"top\">1600.0</th>\n",
       "      <th>0.25</th>\n",
       "      <td>0.835152</td>\n",
       "      <td>0.785714</td>\n",
       "    </tr>\n",
       "    <tr>\n",
       "      <th>0.50</th>\n",
       "      <td>0.856690</td>\n",
       "      <td>0.857143</td>\n",
       "    </tr>\n",
       "    <tr>\n",
       "      <th>0.75</th>\n",
       "      <td>0.871988</td>\n",
       "      <td>0.928571</td>\n",
       "    </tr>\n",
       "  </tbody>\n",
       "</table>\n",
       "</div>"
      ],
      "text/plain": [
       "                                                auc   dev_auc\n",
       "restriction modality      chunk_size                         \n",
       "complete    morphological 50.0       0.25  0.979107  0.931548\n",
       "                                     0.50  0.989473  1.000000\n",
       "                                     0.75  0.993479  1.000000\n",
       "            spatial       25.0       0.25  0.859633  0.833333\n",
       "                                     0.50  0.892711  0.928571\n",
       "                                     0.75  0.917919  1.000000\n",
       "            temporal      1600.0     0.25  0.835152  0.785714\n",
       "                                     0.50  0.856690  0.857143\n",
       "                                     0.75  0.871988  0.928571"
      ]
     },
     "execution_count": 8,
     "metadata": {},
     "output_type": "execute_result"
    }
   ],
   "source": [
    "results = pd.read_csv(PATH, index_col=0)\n",
    "complete = results[results.restriction == 'complete']\n",
    "complete = complete.dropna(how='all', axis=1)\n",
    "grouped_complete = complete.groupby(by=['restriction', 'modality', 'chunk_size'])\n",
    "grouped_complete[['auc', 'dev_auc']].quantile(q=[0.25, 0.5, 0.75])"
   ]
  },
  {
   "cell_type": "code",
   "execution_count": 6,
   "metadata": {},
   "outputs": [
    {
     "name": "stdout",
     "output_type": "stream",
     "text": [
      "Mann-Whitney statistical test results for WF are p-value=0.0031361807951584427 (statistic=855.0)\n",
      "\n",
      "Mann-Whitney statistical test results for temporal are p-value=3.468263926972842e-18 (statistic=0.0)\n",
      "\n",
      "Mann-Whitney statistical test results for spatial are p-value=4.21486133229539e-18 (statistic=3.0)\n",
      "\n"
     ]
    }
   ],
   "source": [
    "wf_ca1 = complete[complete.modality == 'morphological'].dev_auc.to_numpy()\n",
    "wf_ncx = complete[complete.modality == 'morphological'].auc.to_numpy()\n",
    "\n",
    "temp_ca1 = complete[complete.modality == 'temporal'].dev_auc.to_numpy()\n",
    "temp_ncx = complete[complete.modality == 'temporal'].auc.to_numpy()\n",
    "\n",
    "spat_ca1 = complete[complete.modality == 'spatial'].dev_auc.to_numpy()\n",
    "spat_ncx = complete[complete.modality == 'spatial'].auc.to_numpy()\n",
    "\n",
    "statistic, p_val = stats.mannwhitneyu(wf_ca1, wf_ncx)\n",
    "print(f\"Mann-Whitney statistical test results for WF are p-value={p_val} (statistic={statistic})\")\n",
    "print()\n",
    "\n",
    "statistic, p_val = stats.mannwhitneyu(temp_ca1, temp_ncx)\n",
    "print(f\"Mann-Whitney statistical test results for temporal are p-value={p_val} (statistic={statistic})\")\n",
    "print()\n",
    "\n",
    "statistic, p_val = stats.mannwhitneyu(spat_ca1, spat_ncx)\n",
    "print(f\"Mann-Whitney statistical test results for spatial are p-value={p_val} (statistic={statistic})\")\n",
    "print()"
   ]
  },
  {
   "cell_type": "code",
   "execution_count": 5,
   "metadata": {},
   "outputs": [],
   "source": [
    "cs_50 = complete[complete.chunk_size == 50]\n",
    "cs_wf = cs_50[cs_50.modality == 'morphological']\n",
    "wf_aucs = cs_wf.auc.to_numpy()\n",
    "wf_dev_aucs = cs_wf.dev_auc.to_numpy()\n",
    "\n",
    "cs_1600 = complete[complete.chunk_size == 1600]\n",
    "cs_temp = cs_1600[cs_1600.modality == 'temporal']\n",
    "temp_aucs = cs_temp.auc.to_numpy()\n",
    "temp_dev_aucs = cs_temp.dev_auc.to_numpy()\n",
    "\n",
    "cs_25 = complete[complete.chunk_size == 25]\n",
    "cs_spat = cs_25[cs_25.modality == 'spatial']\n",
    "spat_aucs = cs_spat.auc.to_numpy()\n",
    "spat_dev_aucs = cs_spat.dev_auc.to_numpy()\n",
    "\n",
    "aucs = np.concatenate((wf_aucs, temp_aucs, spat_aucs))\n",
    "dev_aucs = np.concatenate((wf_dev_aucs, temp_dev_aucs, spat_dev_aucs))\n",
    "N = len(aucs)\n",
    "\n",
    "all_aucs = np.concatenate((aucs, dev_aucs))\n",
    "g1 = np.concatenate((np.ones(N), 2 * np.ones(N)))\n",
    "g2 = np.repeat([[1, 2, 3, 1, 2, 3]], N // 3, axis=1).flatten()"
   ]
  },
  {
   "cell_type": "code",
   "execution_count": 6,
   "metadata": {},
   "outputs": [],
   "source": [
    "m_dict = {'data': all_aucs, 'g1': g1, 'g2': g2}\n",
    "io.savemat('region_mat.mat', m_dict)"
   ]
  },
  {
   "cell_type": "code",
   "execution_count": 7,
   "metadata": {},
   "outputs": [
    {
     "name": "stdout",
     "output_type": "stream",
     "text": [
      "Median of WF column is  1.771 [ 0.125,  8.337]\n",
      "Median of temporal column is  40.808 [ 28.569,  50.778]\n",
      "Median of spatial column is  27.525 [ 20.494,  33.974]\n",
      "\n",
      "Wilcoxon statistical test results for wf are p-value=1.6212069488518604e-05 (statistic=1068.0)\n",
      "Wilcoxon statistical test results for spatial are p-value=3.778464727931783e-10 (statistic=1275.0)\n",
      "Wilcoxon statistical test results for temporal p-value=4.0155454535234565e-10 (statistic=1274.0)\n",
      "\n",
      "Wilcoxon statistical test results for wf and temp are p-value=1.0872449061578735e-09 (statistic=6.0)\n",
      "Wilcoxon statistical test results for wf and spatial are p-value=9.06805772149548e-10 (statistic=3.0)\n",
      "Wilcoxon statistical test results for temporal and spatial p-value=0.0003887877875099616 (statistic=270.0)\n"
     ]
    }
   ],
   "source": [
    "wf_diff = 100 * (wf_dev_aucs - wf_aucs) / wf_dev_aucs\n",
    "temp_diff = 100 * (temp_dev_aucs - temp_aucs) / temp_dev_aucs\n",
    "spat_diff = 100 * (spat_dev_aucs - spat_aucs) / spat_dev_aucs\n",
    "\n",
    "wf_median, wf_prec25, wf_prec75 = np.percentile(wf_diff, [50, 25, 75])\n",
    "print(f\"Median of WF column is {wf_median: .3f} [{wf_prec25: .3f}, {wf_prec75: .3f}]\")\n",
    "temp_median, temp_prec25, temp_prec75 = np.percentile(temp_diff, [50, 25, 75])\n",
    "print(f\"Median of temporal column is {temp_median: .3f} [{temp_prec25: .3f}, {temp_prec75: .3f}]\")\n",
    "spat_median, spat_prec25, spat_prec75 = np.percentile(spat_diff, [50, 25, 75])\n",
    "print(f\"Median of spatial column is {spat_median: .3f} [{spat_prec25: .3f}, {spat_prec75: .3f}]\\n\")\n",
    "\n",
    "statistic, p_val = stats.wilcoxon(wf_dev_aucs, wf_aucs, alternative='greater')\n",
    "print(f\"Wilcoxon statistical test results for wf are p-value={p_val} (statistic={statistic})\")\n",
    "statistic, p_val = stats.wilcoxon(spat_dev_aucs, spat_aucs, alternative='greater')\n",
    "print(f\"Wilcoxon statistical test results for spatial are p-value={p_val} (statistic={statistic})\")\n",
    "statistic, p_val = stats.wilcoxon(temp_dev_aucs, temp_aucs, alternative='greater')\n",
    "print(f\"Wilcoxon statistical test results for temporal p-value={p_val} (statistic={statistic})\\n\")\n",
    "\n",
    "statistic, p_val = stats.wilcoxon(wf_diff, temp_diff)\n",
    "print(f\"Wilcoxon statistical test results for wf and temp are p-value={p_val} (statistic={statistic})\")\n",
    "statistic, p_val = stats.wilcoxon(wf_diff, spat_diff)\n",
    "print(f\"Wilcoxon statistical test results for wf and spatial are p-value={p_val} (statistic={statistic})\")\n",
    "statistic, p_val = stats.wilcoxon(spat_diff, temp_diff)\n",
    "print(f\"Wilcoxon statistical test results for temporal and spatial p-value={p_val} (statistic={statistic})\")"
   ]
  },
  {
   "cell_type": "code",
   "execution_count": 8,
   "metadata": {},
   "outputs": [
    {
     "name": "stdout",
     "output_type": "stream",
     "text": [
      "Mann-Whitney statistical test results for wf ncx auc are p-value=7.544976683806673e-10 (statistic=0.0)\n",
      "Mann-Whitney statistical test results for spatial ncx auc are p-value=1.431736905499615e-07 (statistic=92.5)\n",
      "Mann-Whitney statistical test results for temporal ncx auc are p-value=0.2839328003398659 (statistic=526.5)\n",
      "Mann-Whitney statistical test results for wf ca1 auc are p-value=7.544976683806673e-10 (statistic=0.0)\n",
      "Mann-Whitney statistical test results for spatial ca1 auc are p-value=7.551804758280675e-10 (statistic=0.0)\n",
      "Mann-Whitney statistical test results for temporal ca1 auc are p-value=7.551804758280675e-10 (statistic=0.0)\n"
     ]
    }
   ],
   "source": [
    "statistic, p_val = stats.wilcoxon(wf_aucs - 0.5)\n",
    "print(f\"Mann-Whitney statistical test results for wf ncx auc are p-value={p_val} (statistic={statistic})\")\n",
    "statistic, p_val = stats.wilcoxon(spat_aucs - 0.5)\n",
    "print(f\"Mann-Whitney statistical test results for spatial ncx auc are p-value={p_val} (statistic={statistic})\")\n",
    "statistic, p_val = stats.wilcoxon(temp_aucs - 0.5)\n",
    "print(f\"Mann-Whitney statistical test results for temporal ncx auc are p-value={p_val} (statistic={statistic})\")\n",
    "\n",
    "statistic, p_val = stats.wilcoxon(wf_dev_aucs - 0.5)\n",
    "print(f\"Mann-Whitney statistical test results for wf ca1 auc are p-value={p_val} (statistic={statistic})\")\n",
    "statistic, p_val = stats.wilcoxon(spat_dev_aucs - 0.5)\n",
    "print(f\"Mann-Whitney statistical test results for spatial ca1 auc are p-value={p_val} (statistic={statistic})\")\n",
    "statistic, p_val = stats.wilcoxon(temp_dev_aucs - 0.5)\n",
    "print(f\"Mann-Whitney statistical test results for temporal ca1 auc are p-value={p_val} (statistic={statistic})\")"
   ]
  },
  {
   "cell_type": "code",
   "execution_count": 9,
   "metadata": {},
   "outputs": [
    {
     "name": "stdout",
     "output_type": "stream",
     "text": [
      "Wilcoxon statistical test results for spatial and temporal are p-value=0.0007413258442797535 (statistic=288.0)\n",
      "Wilcoxon statistical test results for wf and temporal are p-value=8.031090907046913e-10 (statistic=1.0)\n"
     ]
    }
   ],
   "source": [
    "statistic, p_val = stats.wilcoxon(temp_aucs, spat_aucs)\n",
    "print(f\"Wilcoxon statistical test results for spatial and temporal are p-value={p_val} (statistic={statistic})\")\n",
    "statistic, p_val = stats.wilcoxon(temp_aucs, wf_aucs)\n",
    "print(f\"Wilcoxon statistical test results for wf and temporal are p-value={p_val} (statistic={statistic})\")"
   ]
  },
  {
   "cell_type": "code",
   "execution_count": null,
   "metadata": {},
   "outputs": [],
   "source": []
  }
 ],
 "metadata": {
  "kernelspec": {
   "display_name": "Python 3",
   "language": "python",
   "name": "python3"
  },
  "language_info": {
   "codemirror_mode": {
    "name": "ipython",
    "version": 3
   },
   "file_extension": ".py",
   "mimetype": "text/x-python",
   "name": "python",
   "nbconvert_exporter": "python",
   "pygments_lexer": "ipython3",
   "version": "3.9.1"
  }
 },
 "nbformat": 4,
 "nbformat_minor": 4
}
