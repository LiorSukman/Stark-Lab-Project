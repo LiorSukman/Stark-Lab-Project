{
 "cells": [
  {
   "cell_type": "code",
   "execution_count": 1,
   "metadata": {},
   "outputs": [],
   "source": [
    "import pandas as pd\n",
    "import os\n",
    "import numpy as np\n",
    "import scipy.stats as stats\n",
    "\n",
    "pd.options.display.max_columns = 500\n",
    "pd.options.display.max_rows = 500"
   ]
  },
  {
   "cell_type": "code",
   "execution_count": 2,
   "metadata": {},
   "outputs": [],
   "source": [
    "PATH = 'ml/results_rf_290322_rich_fix_imp.csv'"
   ]
  },
  {
   "cell_type": "code",
   "execution_count": 3,
   "metadata": {
    "scrolled": false
   },
   "outputs": [],
   "source": [
    "results = pd.read_csv(PATH, index_col=0)\n",
    "\n",
    "chunk_sizes = results.chunk_size.unique()\n",
    "\n",
    "complete = results[results.restriction == 'complete']\n",
    "complete = complete.dropna(how='all', axis=1)"
   ]
  },
  {
   "cell_type": "code",
   "execution_count": 4,
   "metadata": {},
   "outputs": [],
   "source": [
    "PATH_ORG = 'ml/results_rf_290322_fix_imp.csv'"
   ]
  },
  {
   "cell_type": "code",
   "execution_count": 5,
   "metadata": {},
   "outputs": [],
   "source": [
    "results_org = pd.read_csv(PATH_ORG, index_col=0)\n",
    "\n",
    "complete_org = results_org[results_org.restriction == 'complete']\n",
    "complete_org = complete_org.dropna(how='all', axis=1)"
   ]
  },
  {
   "cell_type": "markdown",
   "metadata": {},
   "source": [
    "## WF"
   ]
  },
  {
   "cell_type": "code",
   "execution_count": 6,
   "metadata": {},
   "outputs": [],
   "source": [
    "wf_res_org = complete_org[complete_org.modality == 'morphological']\n",
    "wf_res = complete[complete.modality == 'morphological']"
   ]
  },
  {
   "cell_type": "code",
   "execution_count": 7,
   "metadata": {},
   "outputs": [
    {
     "name": "stdout",
     "output_type": "stream",
     "text": [
      "comparing CS=25.0 for WF models: WilcoxonResult(statistic=268.5, pvalue=0.8300003060118832)\n",
      "comparing CS=50.0 for WF models: WilcoxonResult(statistic=179.0, pvalue=0.4048283906073369)\n",
      "comparing CS=100.0 for WF models: WilcoxonResult(statistic=193.5, pvalue=0.8286770064402925)\n",
      "comparing CS=200.0 for WF models: WilcoxonResult(statistic=176.5, pvalue=0.37450971027243074)\n",
      "comparing CS=400.0 for WF models: WilcoxonResult(statistic=125.0, pvalue=0.31253191263840885)\n",
      "comparing CS=800.0 for WF models: WilcoxonResult(statistic=176.5, pvalue=0.7638478637050132)\n",
      "comparing CS=1600.0 for WF models: WilcoxonResult(statistic=126.0, pvalue=0.20855280071591642)\n"
     ]
    }
   ],
   "source": [
    "wf_aucs_org = [wf_res_org.auc[wf_res_org.chunk_size == cs] for cs in chunk_sizes]\n",
    "wf_aucs = [wf_res.auc[wf_res.chunk_size == cs] for cs in chunk_sizes]\n",
    "\n",
    "for cs_aucs_org, cs_aucs, cs in zip(wf_aucs_org[1:], wf_aucs[1:], chunk_sizes[1:]):\n",
    "    print(f\"comparing CS={cs} for WF models:\", stats.wilcoxon(cs_aucs, cs_aucs_org))"
   ]
  },
  {
   "cell_type": "markdown",
   "metadata": {},
   "source": [
    "## spatial"
   ]
  },
  {
   "cell_type": "code",
   "execution_count": 8,
   "metadata": {},
   "outputs": [],
   "source": [
    "spat_res_org = complete_org[complete_org.modality == 'spatial']\n",
    "spat_res = complete[complete.modality == 'spatial']"
   ]
  },
  {
   "cell_type": "code",
   "execution_count": 9,
   "metadata": {},
   "outputs": [
    {
     "name": "stdout",
     "output_type": "stream",
     "text": [
      "comparing CS=25.0 for Spatial models: WilcoxonResult(statistic=16.0, pvalue=1.976977338482904e-09)\n",
      "comparing CS=50.0 for Spatial models: WilcoxonResult(statistic=19.0, pvalue=2.363501764395746e-09)\n",
      "comparing CS=100.0 for Spatial models: WilcoxonResult(statistic=7.0, pvalue=1.1543224529009006e-09)\n",
      "comparing CS=200.0 for Spatial models: WilcoxonResult(statistic=8.0, pvalue=1.226241494446336e-09)\n",
      "comparing CS=400.0 for Spatial models: WilcoxonResult(statistic=32.0, pvalue=5.0628144200557475e-09)\n",
      "comparing CS=800.0 for Spatial models: WilcoxonResult(statistic=144.0, pvalue=1.8989320193738752e-06)\n",
      "comparing CS=1600.0 for Spatial models: WilcoxonResult(statistic=47.0, pvalue=1.1957750927807627e-08)\n"
     ]
    }
   ],
   "source": [
    "spat_aucs_org = [spat_res_org.auc[spat_res_org.chunk_size == cs] for cs in chunk_sizes]\n",
    "spat_aucs = [spat_res.auc[spat_res.chunk_size == cs] for cs in chunk_sizes]\n",
    "\n",
    "for cs_aucs_org, cs_aucs, cs in zip(spat_aucs_org[1:], spat_aucs[1:], chunk_sizes[1:]):\n",
    "    print(f\"comparing CS={cs} for Spatial models:\", stats.wilcoxon(cs_aucs, cs_aucs_org))"
   ]
  },
  {
   "cell_type": "markdown",
   "metadata": {},
   "source": [
    "## Spike-timing"
   ]
  },
  {
   "cell_type": "code",
   "execution_count": 10,
   "metadata": {},
   "outputs": [],
   "source": [
    "temp_res_org = complete_org[complete_org.modality == 'temporal']\n",
    "temp_res = complete[complete.modality == 'temporal']"
   ]
  },
  {
   "cell_type": "code",
   "execution_count": 11,
   "metadata": {},
   "outputs": [
    {
     "name": "stdout",
     "output_type": "stream",
     "text": [
      "comparing CS=25.0 for Temporal models: WilcoxonResult(statistic=547.0, pvalue=0.5146799316825909)\n",
      "comparing CS=50.0 for Temporal models: WilcoxonResult(statistic=367.5, pvalue=0.0091454817621786)\n",
      "comparing CS=100.0 for Temporal models: WilcoxonResult(statistic=196.5, pvalue=2.0684711186592426e-05)\n",
      "comparing CS=200.0 for Temporal models: WilcoxonResult(statistic=261.5, pvalue=0.0002836388075439085)\n",
      "comparing CS=400.0 for Temporal models: WilcoxonResult(statistic=374.0, pvalue=0.01766731164478056)\n",
      "comparing CS=800.0 for Temporal models: WilcoxonResult(statistic=229.0, pvalue=0.00013620905285348335)\n",
      "comparing CS=1600.0 for Temporal models: WilcoxonResult(statistic=324.5, pvalue=0.004170584989423545)\n"
     ]
    }
   ],
   "source": [
    "temp_aucs_org = [temp_res_org.auc[temp_res_org.chunk_size == cs] for cs in chunk_sizes]\n",
    "temp_aucs = [temp_res.auc[temp_res.chunk_size == cs] for cs in chunk_sizes]\n",
    "\n",
    "for cs_aucs_org, cs_aucs, cs in zip(temp_aucs_org[1:], temp_aucs[1:], chunk_sizes[1:]):\n",
    "    print(f\"comparing CS={cs} for Temporal models:\", stats.wilcoxon(cs_aucs, cs_aucs_org))"
   ]
  },
  {
   "cell_type": "markdown",
   "metadata": {},
   "source": [
    "## Cross-comparisons"
   ]
  },
  {
   "cell_type": "code",
   "execution_count": 12,
   "metadata": {},
   "outputs": [
    {
     "name": "stdout",
     "output_type": "stream",
     "text": [
      "comparing best with different methods for Temporal models: WilcoxonResult(statistic=315.0, pvalue=0.008409296147927934)\n"
     ]
    }
   ],
   "source": [
    "temp_org_800 = complete_org[complete_org.chunk_size == 800]\n",
    "temp_org_800 = temp_org_800[temp_org_800.modality == 'temporal'].auc\n",
    "\n",
    "temp_1600 = complete[complete.chunk_size == 1600]\n",
    "temp_1600 = temp_1600[temp_1600.modality == 'temporal'].auc\n",
    "\n",
    "print(f\"comparing best with different methods for Temporal models:\", stats.wilcoxon(temp_org_800, temp_1600))"
   ]
  },
  {
   "cell_type": "code",
   "execution_count": 13,
   "metadata": {},
   "outputs": [
    {
     "name": "stdout",
     "output_type": "stream",
     "text": [
      "comparing best with different methods for WF models: WilcoxonResult(statistic=97.0, pvalue=0.027051180513157976)\n"
     ]
    }
   ],
   "source": [
    "wf_org_800 = complete_org[complete_org.chunk_size == 800]\n",
    "wf_org_800 = wf_org_800[wf_org_800.modality == 'morphological'].auc\n",
    "\n",
    "wf_50 = complete[complete.chunk_size == 50]\n",
    "wf_50 = wf_50[wf_50.modality == 'morphological'].auc\n",
    "\n",
    "print(f\"comparing best with different methods for WF models:\", stats.wilcoxon(wf_org_800, wf_50))"
   ]
  },
  {
   "cell_type": "code",
   "execution_count": 14,
   "metadata": {},
   "outputs": [
    {
     "name": "stdout",
     "output_type": "stream",
     "text": [
      "comparing best with different methods for Spatial models: WilcoxonResult(statistic=16.0, pvalue=1.976977338482904e-09)\n"
     ]
    }
   ],
   "source": [
    "spat_org_25 = complete_org[complete_org.chunk_size == 25]\n",
    "spat_org_25 = spat_org_25[spat_org_25.modality == 'spatial'].auc\n",
    "\n",
    "spat_25 = complete[complete.chunk_size == 25]\n",
    "spat_25 = spat_25[spat_25.modality == 'spatial'].auc\n",
    "\n",
    "print(f\"comparing best with different methods for Spatial models:\", stats.wilcoxon(spat_org_25, spat_25))"
   ]
  },
  {
   "cell_type": "code",
   "execution_count": 15,
   "metadata": {},
   "outputs": [
    {
     "name": "stdout",
     "output_type": "stream",
     "text": [
      "comparing best with different methods for Spatial models: WilcoxonResult(statistic=309.0, pvalue=0.0015182316754984479)\n"
     ]
    }
   ],
   "source": [
    "PATH_SPAT = 'ml/results_rf_spatial_combined.csv'\n",
    "results_spat = pd.read_csv(PATH_SPAT, index_col=0)\n",
    "complete_spat = results_spat[results_spat.restriction == 'complete']\n",
    "spat_org_5 = complete_spat[complete_spat.chunk_size == 5]\n",
    "spat_org_5 = spat_org_5[spat_org_5.modality == 'spatial'].auc\n",
    "\n",
    "print(f\"comparing best with different methods for Spatial models:\", stats.wilcoxon(spat_org_5, spat_25))"
   ]
  },
  {
   "cell_type": "code",
   "execution_count": null,
   "metadata": {},
   "outputs": [],
   "source": []
  }
 ],
 "metadata": {
  "kernelspec": {
   "display_name": "Python 3",
   "language": "python",
   "name": "python3"
  },
  "language_info": {
   "codemirror_mode": {
    "name": "ipython",
    "version": 3
   },
   "file_extension": ".py",
   "mimetype": "text/x-python",
   "name": "python",
   "nbconvert_exporter": "python",
   "pygments_lexer": "ipython3",
   "version": "3.9.1"
  }
 },
 "nbformat": 4,
 "nbformat_minor": 4
}
