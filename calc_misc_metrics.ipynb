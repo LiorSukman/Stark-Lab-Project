{
 "cells": [
  {
   "cell_type": "code",
   "execution_count": 1,
   "metadata": {},
   "outputs": [],
   "source": [
    "import numpy as np\n",
    "import pandas as pd\n",
    "from sklearn.metrics import roc_auc_score, average_precision_score, cohen_kappa_score\n",
    "\n",
    "import ml.ML_util as ML_util"
   ]
  },
  {
   "cell_type": "code",
   "execution_count": 2,
   "metadata": {},
   "outputs": [],
   "source": [
    "PATH_DF = 'ml/results_rf_310322_chance_balanced.csv'\n",
    "PATH_PRED = 'ml/predictions/preds_rf_310322_chance_balanced.npy'\n",
    "PATH_DATA = 'data_sets_310322_chance_balanced'"
   ]
  },
  {
   "cell_type": "code",
   "execution_count": 13,
   "metadata": {},
   "outputs": [
    {
     "name": "stdout",
     "output_type": "stream",
     "text": [
      "[37. 37. 36. 37. 31. 34. 36. 29. 33. 34. 30. 40. 31. 38. 35. 42. 32. 39.\n",
      " 47. 36. 31. 37. 41. 32. 30. 41. 38. 33. 30. 36. 32. 39. 56. 35. 36. 38.\n",
      " 34. 28. 38. 35. 33. 49. 37. 31. 35. 30. 34. 39. 37. 33. 37. 37. 38. 36.\n",
      " 33. 34. 36. 40. 34. 36. 30. 45. 33. 39. 38. 37. 33. 31. 41. 38. 33. 37.\n",
      " 34. 46. 35. 30. 33. 35. 39. 38. 37. 31. 42. 31. 35. 31. 34. 38. 34. 36.\n",
      " 37. 43. 33. 32. 34. 39. 36. 30. 33. 28. 35. 39. 33. 30. 31. 27. 32. 36.\n",
      " 37. 32. 39. 30. 34. 33. 39. 33. 40. 30. 35. 39. 36. 31. 46. 36. 29. 52.\n",
      " 28. 32. 30. 32. 38. 36. 37. 30. 30. 36. 36. 35. 36. 38. 36. 30. 40. 37.\n",
      " 33. 28. 37. 30. 29. 38. 33. 38. 33. 32. 31. 36. 40. 29. 28. 34. 35. 37.\n",
      " 39. 32. 37. 40. 42. 34. 35. 33. 32. 32. 32. 29. 35. 33. 39. 32. 33. 40.\n",
      " 33. 31. 33. 34. 34. 46. 32. 29. 35. 34. 32. 36. 33. 31. 32. 33. 41. 38.\n",
      " 38. 37. 32. 39. 28. 34. 26. 38. 30. 30. 26. 31. 39. 38. 36. 23. 28. 35.\n",
      " 33. 29. 34. 32. 36. 30. 30. 35. 29. 32. 36. 36. 35. 33. 38. 32. 39. 34.\n",
      " 35. 30. 32. 37. 33. 32. 41. 38. 30. 33. 29. 30. 34. 33. 35. 36. 37. 35.\n",
      " 27. 42. 36. 38. 34. 27. 27. 35. 38. 38. 33. 32. 28. 29. 40. 41. 28. 34.\n",
      " 41. 37. 31. 27. 34. 39. 40. 37. 34. 42. 34. 42. 38. 32. 37. 32. 35. 36.\n",
      " 39. 32. 33. 30. 36. 37. 36. 34. 39. 29. 36. 34. 37. 47. 38. 35. 34. 41.\n",
      " 30. 29. 35. 34. 29. 33. 34. 30. 53. 34. 32. 35. 37. 28. 40. 39. 33. 39.\n",
      " 38. 30. 38. 32. 24. 23. 21. 25. 33. 29. 24. 28. 24. 27. 36. 29. 28. 26.\n",
      " 27. 24. 27. 20. 22. 28. 27. 25. 25. 29. 24. 28. 26. 47. 32. 29. 30. 26.\n",
      " 27. 38. 27. 25. 22. 25. 25. 25. 26. 33. 33. 22. 24. 29. 49. 27. 25. 23.\n",
      " 28. 24. 23. 23. 33. 30. 26. 36. 23. 25. 37. 28. 26. 28. 26. 22. 22. 21.\n",
      " 23. 25. 24. 35. 36. 31. 22. 29. 27. 28. 25. 22.]\n"
     ]
    }
   ],
   "source": [
    "PATH_DATA2 = 'data_sets_290322/complete_0/morphological/0_0.800.2/'\n",
    "train, _, _, _, _, _ = ML_util.get_dataset(PATH_DATA2)\n",
    "train = ML_util.squeeze_clusters(train)\n",
    "print(train[:, 1])"
   ]
  },
  {
   "cell_type": "code",
   "execution_count": 3,
   "metadata": {},
   "outputs": [],
   "source": [
    "def get_labels():\n",
    "    labels = []\n",
    "    for i in range(50):  # 50=number of seeds\n",
    "        data_path = PATH_DATA + f'/complete_{i}/spatial/0_0.800.2/'\n",
    "        _, _, test, _, _, _ = ML_util.get_dataset(data_path)\n",
    "        test_squeezed = ML_util.squeeze_clusters(test)\n",
    "        _, y = ML_util.split_features(test_squeezed)\n",
    "        labels.append(y)\n",
    "    labels = np.repeat(labels, 1 * 3, axis=0)  # 8=number of chunk sizes; 3 number of modalities\n",
    "    return labels"
   ]
  },
  {
   "cell_type": "code",
   "execution_count": 4,
   "metadata": {},
   "outputs": [],
   "source": [
    "results = pd.read_csv(PATH_DF, index_col=0)\n",
    "complete = results[results.restriction == 'complete']\n",
    "complete = complete.dropna(how='all', axis=1)\n",
    "\n",
    "preds = np.load(PATH_PRED)\n",
    "\n",
    "labels = get_labels()"
   ]
  },
  {
   "cell_type": "code",
   "execution_count": 5,
   "metadata": {},
   "outputs": [],
   "source": [
    "auc_flipped = [roc_auc_score(1-label, 1-pred) for label, pred in zip(labels, preds)]\n",
    "ap = [average_precision_score(label, pred) for label, pred in zip(labels, preds)]\n",
    "ap_flipped = [average_precision_score(1-label, 1-pred) for label, pred in zip(labels, preds)]\n",
    "kappa = [cohen_kappa_score(label, pred>=0.5) for label, pred in zip(labels, preds)]"
   ]
  },
  {
   "cell_type": "code",
   "execution_count": 6,
   "metadata": {},
   "outputs": [],
   "source": [
    "complete['auc_flipped'] = auc_flipped\n",
    "complete['kappa'] = kappa\n",
    "complete['ap'] = ap\n",
    "complete['ap_flipped'] = ap_flipped"
   ]
  },
  {
   "cell_type": "code",
   "execution_count": 7,
   "metadata": {},
   "outputs": [
    {
     "data": {
      "text/html": [
       "<div>\n",
       "<style scoped>\n",
       "    .dataframe tbody tr th:only-of-type {\n",
       "        vertical-align: middle;\n",
       "    }\n",
       "\n",
       "    .dataframe tbody tr th {\n",
       "        vertical-align: top;\n",
       "    }\n",
       "\n",
       "    .dataframe thead th {\n",
       "        text-align: right;\n",
       "    }\n",
       "</style>\n",
       "<table border=\"1\" class=\"dataframe\">\n",
       "  <thead>\n",
       "    <tr style=\"text-align: right;\">\n",
       "      <th></th>\n",
       "      <th></th>\n",
       "      <th></th>\n",
       "      <th>auc</th>\n",
       "      <th>auc_flipped</th>\n",
       "      <th>ap</th>\n",
       "      <th>ap_flipped</th>\n",
       "    </tr>\n",
       "    <tr>\n",
       "      <th>restriction</th>\n",
       "      <th>modality</th>\n",
       "      <th>chunk_size</th>\n",
       "      <th></th>\n",
       "      <th></th>\n",
       "      <th></th>\n",
       "      <th></th>\n",
       "    </tr>\n",
       "  </thead>\n",
       "  <tbody>\n",
       "    <tr>\n",
       "      <th rowspan=\"3\" valign=\"top\">complete</th>\n",
       "      <th>morphological</th>\n",
       "      <th>0.0</th>\n",
       "      <td>0.464429</td>\n",
       "      <td>0.464429</td>\n",
       "      <td>0.787938</td>\n",
       "      <td>0.223589</td>\n",
       "    </tr>\n",
       "    <tr>\n",
       "      <th>spatial</th>\n",
       "      <th>0.0</th>\n",
       "      <td>0.483362</td>\n",
       "      <td>0.483362</td>\n",
       "      <td>0.795945</td>\n",
       "      <td>0.201328</td>\n",
       "    </tr>\n",
       "    <tr>\n",
       "      <th>temporal</th>\n",
       "      <th>0.0</th>\n",
       "      <td>0.461130</td>\n",
       "      <td>0.461130</td>\n",
       "      <td>0.790013</td>\n",
       "      <td>0.214193</td>\n",
       "    </tr>\n",
       "  </tbody>\n",
       "</table>\n",
       "</div>"
      ],
      "text/plain": [
       "                                           auc  auc_flipped        ap  \\\n",
       "restriction modality      chunk_size                                    \n",
       "complete    morphological 0.0         0.464429     0.464429  0.787938   \n",
       "            spatial       0.0         0.483362     0.483362  0.795945   \n",
       "            temporal      0.0         0.461130     0.461130  0.790013   \n",
       "\n",
       "                                      ap_flipped  \n",
       "restriction modality      chunk_size              \n",
       "complete    morphological 0.0           0.223589  \n",
       "            spatial       0.0           0.201328  \n",
       "            temporal      0.0           0.214193  "
      ]
     },
     "execution_count": 7,
     "metadata": {},
     "output_type": "execute_result"
    }
   ],
   "source": [
    "grouped_complete = complete.groupby(by=['restriction', 'modality', 'chunk_size'])\n",
    "grouped_complete[['auc', 'auc_flipped', 'ap', 'ap_flipped']].median()"
   ]
  },
  {
   "cell_type": "code",
   "execution_count": null,
   "metadata": {},
   "outputs": [],
   "source": []
  }
 ],
 "metadata": {
  "kernelspec": {
   "display_name": "Python 3",
   "language": "python",
   "name": "python3"
  },
  "language_info": {
   "codemirror_mode": {
    "name": "ipython",
    "version": 3
   },
   "file_extension": ".py",
   "mimetype": "text/x-python",
   "name": "python",
   "nbconvert_exporter": "python",
   "pygments_lexer": "ipython3",
   "version": "3.9.1"
  }
 },
 "nbformat": 4,
 "nbformat_minor": 4
}
