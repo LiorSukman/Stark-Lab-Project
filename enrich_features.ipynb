{
 "cells": [
  {
   "cell_type": "code",
   "execution_count": 4,
   "metadata": {},
   "outputs": [],
   "source": [
    "import os\n",
    "import numpy as np\n",
    "import pandas as pd\n",
    "\n",
    "from constants import SPATIAL, feature_names_org"
   ]
  },
  {
   "cell_type": "code",
   "execution_count": 2,
   "metadata": {},
   "outputs": [],
   "source": [
    "chunks = [0, 25, 50, 100, 200, 400, 800, 1600]\n",
    "drop = ['num_spikes', 'max_abs', 'name', 'region', 'label']\n",
    "PATH = [f'cluster_data/clusterData_no_light_29_03_22/{cs}' for cs in chunks]\n",
    "DEST = [f'cluster_data/clusterData_no_light_29_03_22/{cs}_chunks_improved_v2' for cs in chunks]\n",
    "\n",
    "for d in DEST:\n",
    "    if not os.path.isdir(d):\n",
    "        os.mkdir(d)"
   ]
  },
  {
   "cell_type": "markdown",
   "metadata": {},
   "source": [
    "### V1"
   ]
  },
  {
   "cell_type": "code",
   "execution_count": 3,
   "metadata": {},
   "outputs": [],
   "source": [
    "for p, d in zip(PATH, DEST):\n",
    "    files = os.listdir(p)\n",
    "    for file in sorted(files):\n",
    "        df = pd.read_csv(p + '/' + file)\n",
    "        \n",
    "        n = df.shape[0]\n",
    "        md = df[drop]\n",
    "        df = df.drop(columns=drop)\n",
    "        nc = len(df.columns)\n",
    "        \n",
    "        avg = np.expand_dims(df.mean().to_numpy(), axis=0).repeat(n, axis=0)  # 1\n",
    "        std = np.expand_dims(df.std().to_numpy(), axis=0).repeat(n, axis=0)  # 2\n",
    "        q25 = np.expand_dims(df.quantile(0.25).to_numpy(), axis=0).repeat(n, axis=0)  # 3\n",
    "        q50 = np.expand_dims(df.quantile(0.5).to_numpy(), axis=0).repeat(n, axis=0)  # 4\n",
    "        q75 = np.expand_dims(df.quantile(0.75).to_numpy(), axis=0).repeat(n, axis=0)  # 5\n",
    "        \n",
    "        new_headers = []\n",
    "        for c in df.columns:\n",
    "            new_headers += [f'{c}', f'{c}_avg', f'{c}_std', f'{c}_q25', f'{c}_q50', f'{c}_q75']\n",
    "        new_headers += list(md.columns)\n",
    "            \n",
    "        new_df = np.zeros((n, nc * 6 + len(drop)), object)\n",
    "        new_df[:, :-5:6] = df.to_numpy()\n",
    "        new_df[:, 1:-5:6] = avg\n",
    "        new_df[:, 2:-5:6] = std\n",
    "        new_df[:, 3:-5:6] = q25\n",
    "        new_df[:, 4:-5:6] = q50\n",
    "        new_df[:, 5:-5:6] = q75\n",
    "        new_df[:, -5:] = md.to_numpy()\n",
    "        \n",
    "        new_df = pd.DataFrame(new_df, columns = new_headers)\n",
    "        \n",
    "        new_df.to_csv(path_or_buf=d + '/' + file, index=False, header=new_headers)\n"
   ]
  },
  {
   "cell_type": "markdown",
   "metadata": {},
   "source": [
    "### V2"
   ]
  },
  {
   "cell_type": "code",
   "execution_count": 5,
   "metadata": {},
   "outputs": [],
   "source": [
    "chunks = [0, 1, 5, 10, 25, 50, 100, 200, 400, 800, 1600]\n",
    "drop = ['num_spikes', 'max_abs', 'name', 'region', 'label']\n",
    "PATH = [f'cluster_data/clusterData_no_light_29_03_22/{cs}' for cs in chunks]\n",
    "DEST = [f'cluster_data/clusterData_no_light_29_03_22/{cs}_chunks_improved_v2' for cs in chunks]\n",
    "\n",
    "for d in DEST:\n",
    "    if not os.path.isdir(d):\n",
    "        os.mkdir(d)"
   ]
  },
  {
   "cell_type": "code",
   "execution_count": 9,
   "metadata": {},
   "outputs": [
    {
     "ename": "KeyError",
     "evalue": "\"['num_spikes'] not in index\"",
     "output_type": "error",
     "traceback": [
      "\u001b[1;31m---------------------------------------------------------------------------\u001b[0m",
      "\u001b[1;31mKeyError\u001b[0m                                  Traceback (most recent call last)",
      "\u001b[1;32m<ipython-input-9-a91b1ee584e8>\u001b[0m in \u001b[0;36m<module>\u001b[1;34m\u001b[0m\n\u001b[0;32m      5\u001b[0m \u001b[1;33m\u001b[0m\u001b[0m\n\u001b[0;32m      6\u001b[0m         \u001b[0mn\u001b[0m \u001b[1;33m=\u001b[0m \u001b[0mdf\u001b[0m\u001b[1;33m.\u001b[0m\u001b[0mshape\u001b[0m\u001b[1;33m[\u001b[0m\u001b[1;36m0\u001b[0m\u001b[1;33m]\u001b[0m\u001b[1;33m\u001b[0m\u001b[1;33m\u001b[0m\u001b[0m\n\u001b[1;32m----> 7\u001b[1;33m         \u001b[0mmd\u001b[0m \u001b[1;33m=\u001b[0m \u001b[0mdf\u001b[0m\u001b[1;33m[\u001b[0m\u001b[0mdrop\u001b[0m\u001b[1;33m]\u001b[0m\u001b[1;33m\u001b[0m\u001b[1;33m\u001b[0m\u001b[0m\n\u001b[0m\u001b[0;32m      8\u001b[0m         \u001b[0mdf\u001b[0m \u001b[1;33m=\u001b[0m \u001b[0mdf\u001b[0m\u001b[1;33m[\u001b[0m\u001b[1;33m[\u001b[0m\u001b[0mfeature_names_org\u001b[0m\u001b[1;33m[\u001b[0m\u001b[0mi\u001b[0m\u001b[1;33m]\u001b[0m \u001b[1;32mfor\u001b[0m \u001b[0mi\u001b[0m \u001b[1;32min\u001b[0m \u001b[0mSPATIAL\u001b[0m\u001b[1;33m[\u001b[0m\u001b[1;33m:\u001b[0m\u001b[1;33m-\u001b[0m\u001b[1;36m1\u001b[0m\u001b[1;33m]\u001b[0m\u001b[1;33m]\u001b[0m\u001b[1;33m]\u001b[0m\u001b[1;33m\u001b[0m\u001b[1;33m\u001b[0m\u001b[0m\n\u001b[0;32m      9\u001b[0m         \u001b[0mnc\u001b[0m \u001b[1;33m=\u001b[0m \u001b[0mlen\u001b[0m\u001b[1;33m(\u001b[0m\u001b[0mdf\u001b[0m\u001b[1;33m.\u001b[0m\u001b[0mcolumns\u001b[0m\u001b[1;33m)\u001b[0m\u001b[1;33m\u001b[0m\u001b[1;33m\u001b[0m\u001b[0m\n",
      "\u001b[1;32mc:\\users\\lior\\appdata\\local\\programs\\python\\python39\\lib\\site-packages\\pandas\\core\\frame.py\u001b[0m in \u001b[0;36m__getitem__\u001b[1;34m(self, key)\u001b[0m\n\u001b[0;32m   2910\u001b[0m             \u001b[1;32mif\u001b[0m \u001b[0mis_iterator\u001b[0m\u001b[1;33m(\u001b[0m\u001b[0mkey\u001b[0m\u001b[1;33m)\u001b[0m\u001b[1;33m:\u001b[0m\u001b[1;33m\u001b[0m\u001b[1;33m\u001b[0m\u001b[0m\n\u001b[0;32m   2911\u001b[0m                 \u001b[0mkey\u001b[0m \u001b[1;33m=\u001b[0m \u001b[0mlist\u001b[0m\u001b[1;33m(\u001b[0m\u001b[0mkey\u001b[0m\u001b[1;33m)\u001b[0m\u001b[1;33m\u001b[0m\u001b[1;33m\u001b[0m\u001b[0m\n\u001b[1;32m-> 2912\u001b[1;33m             \u001b[0mindexer\u001b[0m \u001b[1;33m=\u001b[0m \u001b[0mself\u001b[0m\u001b[1;33m.\u001b[0m\u001b[0mloc\u001b[0m\u001b[1;33m.\u001b[0m\u001b[0m_get_listlike_indexer\u001b[0m\u001b[1;33m(\u001b[0m\u001b[0mkey\u001b[0m\u001b[1;33m,\u001b[0m \u001b[0maxis\u001b[0m\u001b[1;33m=\u001b[0m\u001b[1;36m1\u001b[0m\u001b[1;33m,\u001b[0m \u001b[0mraise_missing\u001b[0m\u001b[1;33m=\u001b[0m\u001b[1;32mTrue\u001b[0m\u001b[1;33m)\u001b[0m\u001b[1;33m[\u001b[0m\u001b[1;36m1\u001b[0m\u001b[1;33m]\u001b[0m\u001b[1;33m\u001b[0m\u001b[1;33m\u001b[0m\u001b[0m\n\u001b[0m\u001b[0;32m   2913\u001b[0m \u001b[1;33m\u001b[0m\u001b[0m\n\u001b[0;32m   2914\u001b[0m         \u001b[1;31m# take() does not accept boolean indexers\u001b[0m\u001b[1;33m\u001b[0m\u001b[1;33m\u001b[0m\u001b[1;33m\u001b[0m\u001b[0m\n",
      "\u001b[1;32mc:\\users\\lior\\appdata\\local\\programs\\python\\python39\\lib\\site-packages\\pandas\\core\\indexing.py\u001b[0m in \u001b[0;36m_get_listlike_indexer\u001b[1;34m(self, key, axis, raise_missing)\u001b[0m\n\u001b[0;32m   1252\u001b[0m             \u001b[0mkeyarr\u001b[0m\u001b[1;33m,\u001b[0m \u001b[0mindexer\u001b[0m\u001b[1;33m,\u001b[0m \u001b[0mnew_indexer\u001b[0m \u001b[1;33m=\u001b[0m \u001b[0max\u001b[0m\u001b[1;33m.\u001b[0m\u001b[0m_reindex_non_unique\u001b[0m\u001b[1;33m(\u001b[0m\u001b[0mkeyarr\u001b[0m\u001b[1;33m)\u001b[0m\u001b[1;33m\u001b[0m\u001b[1;33m\u001b[0m\u001b[0m\n\u001b[0;32m   1253\u001b[0m \u001b[1;33m\u001b[0m\u001b[0m\n\u001b[1;32m-> 1254\u001b[1;33m         \u001b[0mself\u001b[0m\u001b[1;33m.\u001b[0m\u001b[0m_validate_read_indexer\u001b[0m\u001b[1;33m(\u001b[0m\u001b[0mkeyarr\u001b[0m\u001b[1;33m,\u001b[0m \u001b[0mindexer\u001b[0m\u001b[1;33m,\u001b[0m \u001b[0maxis\u001b[0m\u001b[1;33m,\u001b[0m \u001b[0mraise_missing\u001b[0m\u001b[1;33m=\u001b[0m\u001b[0mraise_missing\u001b[0m\u001b[1;33m)\u001b[0m\u001b[1;33m\u001b[0m\u001b[1;33m\u001b[0m\u001b[0m\n\u001b[0m\u001b[0;32m   1255\u001b[0m         \u001b[1;32mreturn\u001b[0m \u001b[0mkeyarr\u001b[0m\u001b[1;33m,\u001b[0m \u001b[0mindexer\u001b[0m\u001b[1;33m\u001b[0m\u001b[1;33m\u001b[0m\u001b[0m\n\u001b[0;32m   1256\u001b[0m \u001b[1;33m\u001b[0m\u001b[0m\n",
      "\u001b[1;32mc:\\users\\lior\\appdata\\local\\programs\\python\\python39\\lib\\site-packages\\pandas\\core\\indexing.py\u001b[0m in \u001b[0;36m_validate_read_indexer\u001b[1;34m(self, key, indexer, axis, raise_missing)\u001b[0m\n\u001b[0;32m   1302\u001b[0m             \u001b[1;32mif\u001b[0m \u001b[0mraise_missing\u001b[0m\u001b[1;33m:\u001b[0m\u001b[1;33m\u001b[0m\u001b[1;33m\u001b[0m\u001b[0m\n\u001b[0;32m   1303\u001b[0m                 \u001b[0mnot_found\u001b[0m \u001b[1;33m=\u001b[0m \u001b[0mlist\u001b[0m\u001b[1;33m(\u001b[0m\u001b[0mset\u001b[0m\u001b[1;33m(\u001b[0m\u001b[0mkey\u001b[0m\u001b[1;33m)\u001b[0m \u001b[1;33m-\u001b[0m \u001b[0mset\u001b[0m\u001b[1;33m(\u001b[0m\u001b[0max\u001b[0m\u001b[1;33m)\u001b[0m\u001b[1;33m)\u001b[0m\u001b[1;33m\u001b[0m\u001b[1;33m\u001b[0m\u001b[0m\n\u001b[1;32m-> 1304\u001b[1;33m                 \u001b[1;32mraise\u001b[0m \u001b[0mKeyError\u001b[0m\u001b[1;33m(\u001b[0m\u001b[1;34mf\"{not_found} not in index\"\u001b[0m\u001b[1;33m)\u001b[0m\u001b[1;33m\u001b[0m\u001b[1;33m\u001b[0m\u001b[0m\n\u001b[0m\u001b[0;32m   1305\u001b[0m \u001b[1;33m\u001b[0m\u001b[0m\n\u001b[0;32m   1306\u001b[0m             \u001b[1;31m# we skip the warning on Categorical\u001b[0m\u001b[1;33m\u001b[0m\u001b[1;33m\u001b[0m\u001b[1;33m\u001b[0m\u001b[0m\n",
      "\u001b[1;31mKeyError\u001b[0m: \"['num_spikes'] not in index\""
     ]
    }
   ],
   "source": [
    "for p, d in zip(PATH, DEST):\n",
    "    files = os.listdir(p)\n",
    "    for file in sorted(files):\n",
    "        df = pd.read_csv(p + '/' + file)\n",
    "        \n",
    "        n = df.shape[0]\n",
    "        md = df[drop]\n",
    "        df = df[[feature_names_org[i] for i in SPATIAL[:-1]]]\n",
    "        nc = len(df.columns)\n",
    "        \n",
    "        avg = np.expand_dims(df.mean().to_numpy(), axis=0).repeat(n, axis=0)  # 1\n",
    "        std = np.expand_dims(df.std().to_numpy(), axis=0).repeat(n, axis=0)  # 2\n",
    "        q25 = np.expand_dims(df.quantile(0.25).to_numpy(), axis=0).repeat(n, axis=0)  # 3\n",
    "        q50 = np.expand_dims(df.quantile(0.5).to_numpy(), axis=0).repeat(n, axis=0)  # 4\n",
    "        q75 = np.expand_dims(df.quantile(0.75).to_numpy(), axis=0).repeat(n, axis=0)  # 5\n",
    "        \n",
    "        new_headers = []\n",
    "        for c in df.columns:\n",
    "            new_headers += [f'{c}_avg', f'{c}_std', f'{c}_q25', f'{c}_q50', f'{c}_q75']\n",
    "        new_headers += list(md.columns)\n",
    "            \n",
    "        new_df = np.zeros((n, nc * 5 + len(drop)), object)\n",
    "        new_df[:, :-5:5] = avg\n",
    "        new_df[:, 1:-5:5] = std\n",
    "        new_df[:, 2:-5:5] = q25\n",
    "        new_df[:, 3:-5:5] = q50\n",
    "        new_df[:, 4:-5:5] = q75\n",
    "        new_df[:, -len(drop):] = md.to_numpy()\n",
    "        \n",
    "        new_df = pd.DataFrame(new_df, columns = new_headers)\n",
    "        \n",
    "        new_df.to_csv(path_or_buf=d + '/' + file, index=False, header=new_headers)"
   ]
  },
  {
   "cell_type": "code",
   "execution_count": null,
   "metadata": {},
   "outputs": [],
   "source": []
  }
 ],
 "metadata": {
  "kernelspec": {
   "display_name": "Python 3",
   "language": "python",
   "name": "python3"
  },
  "language_info": {
   "codemirror_mode": {
    "name": "ipython",
    "version": 3
   },
   "file_extension": ".py",
   "mimetype": "text/x-python",
   "name": "python",
   "nbconvert_exporter": "python",
   "pygments_lexer": "ipython3",
   "version": "3.9.1"
  }
 },
 "nbformat": 4,
 "nbformat_minor": 4
}
