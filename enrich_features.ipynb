{
 "cells": [
  {
   "cell_type": "code",
   "execution_count": 4,
   "metadata": {},
   "outputs": [],
   "source": [
    "import os\n",
    "import numpy as np\n",
    "import pandas as pd\n",
    "\n",
    "from constants import SPATIAL, feature_names_org"
   ]
  },
  {
   "cell_type": "code",
   "execution_count": 2,
   "metadata": {},
   "outputs": [],
   "source": [
    "chunks = [0, 25, 50, 100, 200, 400, 800, 1600]\n",
    "drop = ['num_spikes', 'max_abs', 'name', 'region', 'label']\n",
    "PATH = [f'cluster_data/clusterData_no_light_29_03_22/{cs}' for cs in chunks]\n",
    "DEST = [f'cluster_data/clusterData_no_light_29_03_22/{cs}_chunks_improved_v2' for cs in chunks]\n",
    "\n",
    "for d in DEST:\n",
    "    if not os.path.isdir(d):\n",
    "        os.mkdir(d)"
   ]
  },
  {
   "cell_type": "markdown",
   "metadata": {},
   "source": [
    "### V1"
   ]
  },
  {
   "cell_type": "code",
   "execution_count": 3,
   "metadata": {},
   "outputs": [],
   "source": [
    "for p, d in zip(PATH, DEST):\n",
    "    files = os.listdir(p)\n",
    "    for file in sorted(files):\n",
    "        df = pd.read_csv(p + '/' + file)\n",
    "        \n",
    "        n = df.shape[0]\n",
    "        md = df[drop]\n",
    "        df = df.drop(columns=drop)\n",
    "        nc = len(df.columns)\n",
    "        \n",
    "        avg = np.expand_dims(df.mean().to_numpy(), axis=0).repeat(n, axis=0)  # 1\n",
    "        std = np.expand_dims(df.std().to_numpy(), axis=0).repeat(n, axis=0)  # 2\n",
    "        q25 = np.expand_dims(df.quantile(0.25).to_numpy(), axis=0).repeat(n, axis=0)  # 3\n",
    "        q50 = np.expand_dims(df.quantile(0.5).to_numpy(), axis=0).repeat(n, axis=0)  # 4\n",
    "        q75 = np.expand_dims(df.quantile(0.75).to_numpy(), axis=0).repeat(n, axis=0)  # 5\n",
    "        \n",
    "        new_headers = []\n",
    "        for c in df.columns:\n",
    "            new_headers += [f'{c}', f'{c}_avg', f'{c}_std', f'{c}_q25', f'{c}_q50', f'{c}_q75']\n",
    "        new_headers += list(md.columns)\n",
    "            \n",
    "        new_df = np.zeros((n, nc * 6 + len(drop)), object)\n",
    "        new_df[:, :-5:6] = df.to_numpy()\n",
    "        new_df[:, 1:-5:6] = avg\n",
    "        new_df[:, 2:-5:6] = std\n",
    "        new_df[:, 3:-5:6] = q25\n",
    "        new_df[:, 4:-5:6] = q50\n",
    "        new_df[:, 5:-5:6] = q75\n",
    "        new_df[:, -5:] = md.to_numpy()\n",
    "        \n",
    "        new_df = pd.DataFrame(new_df, columns = new_headers)\n",
    "        \n",
    "        new_df.to_csv(path_or_buf=d + '/' + file, index=False, header=new_headers)\n"
   ]
  },
  {
   "cell_type": "markdown",
   "metadata": {},
   "source": [
    "### V2"
   ]
  },
  {
   "cell_type": "code",
   "execution_count": 15,
   "metadata": {},
   "outputs": [],
   "source": [
    "chunks = [0, 1, 5, 10, 25, 50, 100, 200, 400, 800, 1600]\n",
    "drop = ['max_abs', 'name', 'region', 'label']\n",
    "PATH = [f'cluster_data/clusterData_no_light_29_03_22/{cs}' for cs in chunks]\n",
    "DEST = [f'cluster_data/clusterData_no_light_29_03_22/{cs}_chunks_improved_v2' for cs in chunks]\n",
    "\n",
    "for d in DEST:\n",
    "    if not os.path.isdir(d):\n",
    "        os.mkdir(d)"
   ]
  },
  {
   "cell_type": "code",
   "execution_count": 23,
   "metadata": {},
   "outputs": [],
   "source": [
    "for p, d in zip(PATH, DEST):\n",
    "    files = os.listdir(p)\n",
    "    for file in sorted(files):\n",
    "        df = pd.read_csv(p + '/' + file)\n",
    "        \n",
    "        n = df.shape[0]\n",
    "        df = df.drop(['num_spikes'], errors='ignore')\n",
    "        md = df[drop].head(1)\n",
    "\n",
    "        df = df[[feature_names_org[i] for i in SPATIAL[:-1]]]\n",
    "        nc = len(df.columns)\n",
    "        \n",
    "        avg = np.expand_dims(df.mean().to_numpy(), axis=0)  # 1\n",
    "        std = np.expand_dims(df.std().to_numpy(), axis=0) # 2\n",
    "        q25 = np.expand_dims(df.quantile(0.25).to_numpy(), axis=0)  # 3\n",
    "        q50 = np.expand_dims(df.quantile(0.5).to_numpy(), axis=0)  # 4\n",
    "        q75 = np.expand_dims(df.quantile(0.75).to_numpy(), axis=0)  # 5\n",
    "                \n",
    "        new_headers = []\n",
    "        for c in df.columns:\n",
    "            new_headers += [f'{c}_avg', f'{c}_std', f'{c}_q25', f'{c}_q50', f'{c}_q75']\n",
    "        new_headers += list(md.columns)\n",
    "            \n",
    "        new_df = np.zeros((1, nc * 5 + len(drop)), object)\n",
    "        new_df[:, :-len(drop):5] = avg\n",
    "        new_df[:, 1:-len(drop):5] = std\n",
    "        new_df[:, 2:-len(drop):5] = q25\n",
    "        new_df[:, 3:-len(drop):5] = q50\n",
    "        new_df[:, 4:-len(drop):5] = q75\n",
    "        new_df[:, -len(drop):] = md.to_numpy()\n",
    "        \n",
    "        new_df = pd.DataFrame(new_df, columns = new_headers)\n",
    "        \n",
    "        new_df.to_csv(path_or_buf=d + '/' + file, index=False, header=new_headers)"
   ]
  },
  {
   "cell_type": "code",
   "execution_count": null,
   "metadata": {},
   "outputs": [],
   "source": []
  }
 ],
 "metadata": {
  "kernelspec": {
   "display_name": "Python 3",
   "language": "python",
   "name": "python3"
  },
  "language_info": {
   "codemirror_mode": {
    "name": "ipython",
    "version": 3
   },
   "file_extension": ".py",
   "mimetype": "text/x-python",
   "name": "python",
   "nbconvert_exporter": "python",
   "pygments_lexer": "ipython3",
   "version": "3.9.1"
  }
 },
 "nbformat": 4,
 "nbformat_minor": 4
}
