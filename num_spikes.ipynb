{
 "cells": [
  {
   "cell_type": "code",
   "execution_count": 1,
   "metadata": {},
   "outputs": [],
   "source": [
    "import pandas as pd\n",
    "import numpy as np\n",
    "import os"
   ]
  },
  {
   "cell_type": "code",
   "execution_count": 2,
   "metadata": {},
   "outputs": [],
   "source": [
    "PATH = 'cluster_data/clusterData_no_light_29_03_22/0'\n",
    "drop_columns = ['max_abs', 'name']"
   ]
  },
  {
   "cell_type": "code",
   "execution_count": 3,
   "metadata": {},
   "outputs": [],
   "source": [
    "df = None\n",
    "files = os.listdir(PATH)\n",
    "for file in sorted(files):\n",
    "    if df is None:\n",
    "        df = pd.read_csv(PATH + '/' + file)\n",
    "    else:\n",
    "        temp = pd.read_csv(PATH + '/' + file)\n",
    "        df = df.append(temp)\n",
    "\n",
    "df = df.drop(columns=drop_columns)"
   ]
  },
  {
   "cell_type": "code",
   "execution_count": 4,
   "metadata": {},
   "outputs": [
    {
     "name": "stdout",
     "output_type": "stream",
     "text": [
      "Number of PYR spikes is 5651196.0 (411 units)\n",
      "Number of PV spikes is 11612978.0 (101 units)\n"
     ]
    }
   ],
   "source": [
    "labels = df.label.to_numpy()\n",
    "num_spikes = df.num_spikes.to_numpy()\n",
    "print(f\"Number of PYR spikes is {np.sum(num_spikes[labels == 1])} ({np.sum(labels == 1)} units)\")\n",
    "print(f\"Number of PV spikes is {np.sum(num_spikes[labels == 0])} ({np.sum(labels == 0)} units)\")"
   ]
  },
  {
   "cell_type": "code",
   "execution_count": 5,
   "metadata": {},
   "outputs": [],
   "source": [
    "PATH_25 = 'cluster_data/clusterData_no_light_29_03_22/25'\n",
    "df_25 = None\n",
    "files = os.listdir(PATH_25)\n",
    "for file in sorted(files):\n",
    "    if df_25 is None:\n",
    "        df_25 = pd.read_csv(PATH_25 + '/' + file)\n",
    "    else:\n",
    "        temp = pd.read_csv(PATH_25 + '/' + file)\n",
    "        df_25 = df_25.append(temp)\n",
    "\n",
    "df_25 = df_25.drop(columns=drop_columns)"
   ]
  },
  {
   "cell_type": "code",
   "execution_count": 6,
   "metadata": {},
   "outputs": [
    {
     "name": "stdout",
     "output_type": "stream",
     "text": [
      "Number of PYR samples is 225850\n",
      "Number of PV samples is 464473\n"
     ]
    }
   ],
   "source": [
    "labels = df_25.label.to_numpy()\n",
    "print(f\"Number of PYR samples is {np.sum(labels == 1)}\")\n",
    "print(f\"Number of PV samples is {np.sum(labels == 0)}\")"
   ]
  },
  {
   "cell_type": "code",
   "execution_count": 7,
   "metadata": {},
   "outputs": [],
   "source": [
    "PATH_25 = 'cluster_data/clusterData_no_light_29_03_22/25'\n",
    "df_25 = None\n",
    "files = os.listdir(PATH_25)\n",
    "for file in sorted(files):\n",
    "    if df_25 is None:\n",
    "        df_25 = pd.read_csv(PATH_25 + '/' + file).head(1)\n",
    "    else:\n",
    "        temp = pd.read_csv(PATH_25 + '/' + file).head(1)\n",
    "        df_25 = df_25.append(temp)\n",
    "\n",
    "df_25 = df_25.drop(columns=drop_columns)"
   ]
  },
  {
   "cell_type": "code",
   "execution_count": 8,
   "metadata": {},
   "outputs": [
    {
     "name": "stdout",
     "output_type": "stream",
     "text": [
      "Median (Q25, Q75) number of PYR samples is [ 8368.   4494.5 16929. ]\n",
      "Median (Q25, Q75) number of PV samples is [ 66850.  13031. 174802.]\n"
     ]
    }
   ],
   "source": [
    "labels = df_25.label.to_numpy()\n",
    "num_spikes = df_25.num_spikes.to_numpy()\n",
    "print(f\"Median (Q25, Q75) number of PYR samples is {np.quantile(num_spikes[labels == 1], q=[0.5, 0.25, 0.75])}\")\n",
    "print(f\"Median (Q25, Q75) number of PV samples is {np.quantile(num_spikes[labels == 0], q=[0.5, 0.25, 0.75])}\")"
   ]
  }
 ],
 "metadata": {
  "kernelspec": {
   "display_name": "Python 3",
   "language": "python",
   "name": "python3"
  },
  "language_info": {
   "codemirror_mode": {
    "name": "ipython",
    "version": 3
   },
   "file_extension": ".py",
   "mimetype": "text/x-python",
   "name": "python",
   "nbconvert_exporter": "python",
   "pygments_lexer": "ipython3",
   "version": "3.9.1"
  }
 },
 "nbformat": 4,
 "nbformat_minor": 4
}
