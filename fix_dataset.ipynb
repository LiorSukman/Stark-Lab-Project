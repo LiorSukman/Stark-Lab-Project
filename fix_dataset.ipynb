{
 "cells": [
  {
   "cell_type": "code",
   "execution_count": 1,
   "metadata": {},
   "outputs": [],
   "source": [
    "import numpy as np\n",
    "import pandas as pd\n",
    "import os"
   ]
  },
  {
   "cell_type": "code",
   "execution_count": 2,
   "metadata": {},
   "outputs": [],
   "source": [
    "PATH1 = 'clustersData_no_light_20_02_22/'\n",
    "PATH2 = 'clusterData_no_light_22_02_22_spatial/'\n",
    "DEST = 'clusterData_no_light_FINAL_23_02_22/'\n",
    "chunks = [0, 25, 50, 100, 200, 400, 800 ,1600]\n",
    "\n",
    "path1_remove_columns = [\n",
    "    'spatial_dispersion_count', 'spatial_dispersion_sd', 'spatial_dispersion_area',\n",
    "    'geometrical_shift', 'geometrical_shift_sd', \n",
    "    'graph_avg_speed', 'graph_slowest_path', 'graph_fastest_path',\n",
    "    'dep_red', 'dep_sd', 'fzc_red', 'fzc_sd', 'szc_red', 'szc_sd', 't_time'\n",
    "]\n",
    "\n",
    "path2_remove_columns = [\n",
    "    'geometrical_shift', 'geometrical_shift_sd', 'max_abs', 'name', 'region', 'label'\n",
    "]"
   ]
  },
  {
   "cell_type": "code",
   "execution_count": 3,
   "metadata": {},
   "outputs": [],
   "source": [
    "if not os.path.isdir(DEST):\n",
    "    os.mkdir(DEST)\n",
    "for chunk in chunks:\n",
    "    chunk_dir = f\"{DEST}{chunk}/\"\n",
    "    if not os.path.isdir(chunk_dir):\n",
    "        os.mkdir(chunk_dir)"
   ]
  },
  {
   "cell_type": "code",
   "execution_count": 4,
   "metadata": {
    "scrolled": true
   },
   "outputs": [],
   "source": [
    "for chunk in chunks:\n",
    "    files = os.listdir(f\"{PATH1}{chunk}/\")\n",
    "    for file in sorted(files):\n",
    "        temp = pd.read_csv(f\"{PATH1}{chunk}/{file}\")\n",
    "        if temp.label[0] < 0:\n",
    "            continue\n",
    "\n",
    "        temp_spat = pd.read_csv(f\"{PATH2}{chunk}/{file}\")\n",
    "            \n",
    "        df_new1 = temp.drop(columns=path1_remove_columns)\n",
    "        df_new2 = temp_spat.drop(columns=path2_remove_columns)\n",
    "                       \n",
    "        df_new = pd.concat([df_new2, df_new1], axis=1)\n",
    "    \n",
    "        df_new.to_csv(path_or_buf=f\"{DEST}{chunk}/{file}\", index=False, header=df_new.columns)"
   ]
  }
 ],
 "metadata": {
  "kernelspec": {
   "display_name": "Python 3",
   "language": "python",
   "name": "python3"
  },
  "language_info": {
   "codemirror_mode": {
    "name": "ipython",
    "version": 3
   },
   "file_extension": ".py",
   "mimetype": "text/x-python",
   "name": "python",
   "nbconvert_exporter": "python",
   "pygments_lexer": "ipython3",
   "version": "3.9.1"
  }
 },
 "nbformat": 4,
 "nbformat_minor": 5
}
