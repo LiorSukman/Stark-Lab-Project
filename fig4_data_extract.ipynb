{
 "cells": [
  {
   "cell_type": "code",
   "execution_count": 3,
   "metadata": {},
   "outputs": [],
   "source": [
    "import pandas as pd\n",
    "import numpy as np\n",
    "import scipy.io as io\n",
    "import os"
   ]
  },
  {
   "cell_type": "code",
   "execution_count": 4,
   "metadata": {},
   "outputs": [],
   "source": [
    "PATH = 'cluster_data/clusterData_no_light_29_03_22/0'\n",
    "\n",
    "df = None\n",
    "files = os.listdir(PATH)\n",
    "for file in sorted(files):\n",
    "    if df is None:\n",
    "        df = pd.read_csv(PATH + '/' + file)\n",
    "    else:\n",
    "        temp = pd.read_csv(PATH + '/' + file)\n",
    "        df = df.append(temp)"
   ]
  },
  {
   "cell_type": "code",
   "execution_count": 5,
   "metadata": {},
   "outputs": [],
   "source": [
    "fields = ['fzc_sd', 'dep_sd', 'szc_sd']\n",
    "labels = df.label.to_numpy()\n",
    "data = df[fields].to_numpy()\n",
    "\n",
    "data_pyr = data[labels == 1] \n",
    "data_pv = data[labels == 0]"
   ]
  },
  {
   "cell_type": "code",
   "execution_count": 7,
   "metadata": {},
   "outputs": [],
   "source": [
    "data_dict = {'pyr': data_pyr, 'pv': data_pv}\n",
    "io.savemat('./statistics/fig4_data.mat', data_dict)"
   ]
  },
  {
   "cell_type": "code",
   "execution_count": null,
   "metadata": {},
   "outputs": [],
   "source": []
  }
 ],
 "metadata": {
  "kernelspec": {
   "display_name": "Python 3",
   "language": "python",
   "name": "python3"
  },
  "language_info": {
   "codemirror_mode": {
    "name": "ipython",
    "version": 3
   },
   "file_extension": ".py",
   "mimetype": "text/x-python",
   "name": "python",
   "nbconvert_exporter": "python",
   "pygments_lexer": "ipython3",
   "version": "3.9.1"
  }
 },
 "nbformat": 4,
 "nbformat_minor": 4
}
