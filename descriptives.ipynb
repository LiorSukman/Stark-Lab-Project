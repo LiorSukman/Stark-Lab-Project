{
 "cells": [
  {
   "cell_type": "code",
   "execution_count": 1,
   "metadata": {},
   "outputs": [],
   "source": [
    "import pandas as pd\n",
    "import numpy as np\n",
    "import matplotlib.pyplot as plt\n",
    "import seaborn as sns\n",
    "import os\n",
    "\n",
    "from constants import INF, SPATIAL, MORPHOLOGICAL, TEMPORAL "
   ]
  },
  {
   "cell_type": "code",
   "execution_count": 2,
   "metadata": {},
   "outputs": [],
   "source": [
    "PATH = 'clustersData_only_light/0'"
   ]
  },
  {
   "cell_type": "code",
   "execution_count": 3,
   "metadata": {},
   "outputs": [
    {
     "ename": "FileNotFoundError",
     "evalue": "[WinError 3] The system cannot find the path specified: 'clustersData_only_light/0'",
     "output_type": "error",
     "traceback": [
      "\u001b[1;31m---------------------------------------------------------------------------\u001b[0m",
      "\u001b[1;31mFileNotFoundError\u001b[0m                         Traceback (most recent call last)",
      "\u001b[1;32m<ipython-input-3-936426b145a4>\u001b[0m in \u001b[0;36m<module>\u001b[1;34m\u001b[0m\n\u001b[0;32m      1\u001b[0m \u001b[0mdf_light\u001b[0m \u001b[1;33m=\u001b[0m \u001b[1;32mNone\u001b[0m\u001b[1;33m\u001b[0m\u001b[1;33m\u001b[0m\u001b[0m\n\u001b[1;32m----> 2\u001b[1;33m \u001b[0mfiles\u001b[0m \u001b[1;33m=\u001b[0m \u001b[0mos\u001b[0m\u001b[1;33m.\u001b[0m\u001b[0mlistdir\u001b[0m\u001b[1;33m(\u001b[0m\u001b[0mPATH\u001b[0m\u001b[1;33m)\u001b[0m\u001b[1;33m\u001b[0m\u001b[1;33m\u001b[0m\u001b[0m\n\u001b[0m\u001b[0;32m      3\u001b[0m \u001b[1;32mfor\u001b[0m \u001b[0mfile\u001b[0m \u001b[1;32min\u001b[0m \u001b[0msorted\u001b[0m\u001b[1;33m(\u001b[0m\u001b[0mfiles\u001b[0m\u001b[1;33m)\u001b[0m\u001b[1;33m:\u001b[0m\u001b[1;33m\u001b[0m\u001b[1;33m\u001b[0m\u001b[0m\n\u001b[0;32m      4\u001b[0m     \u001b[1;32mif\u001b[0m \u001b[0mdf_light\u001b[0m \u001b[1;32mis\u001b[0m \u001b[1;32mNone\u001b[0m\u001b[1;33m:\u001b[0m\u001b[1;33m\u001b[0m\u001b[1;33m\u001b[0m\u001b[0m\n\u001b[0;32m      5\u001b[0m         \u001b[0mdf_light\u001b[0m \u001b[1;33m=\u001b[0m \u001b[0mpd\u001b[0m\u001b[1;33m.\u001b[0m\u001b[0mread_csv\u001b[0m\u001b[1;33m(\u001b[0m\u001b[0mPATH\u001b[0m \u001b[1;33m+\u001b[0m \u001b[1;34m'/'\u001b[0m \u001b[1;33m+\u001b[0m \u001b[0mfile\u001b[0m\u001b[1;33m)\u001b[0m\u001b[1;33m\u001b[0m\u001b[1;33m\u001b[0m\u001b[0m\n",
      "\u001b[1;31mFileNotFoundError\u001b[0m: [WinError 3] The system cannot find the path specified: 'clustersData_only_light/0'"
     ]
    }
   ],
   "source": [
    "df_light = None\n",
    "files = os.listdir(PATH)\n",
    "for file in sorted(files):\n",
    "    if df_light is None:\n",
    "        df_light = pd.read_csv(PATH + '/' + file)\n",
    "    else:\n",
    "        temp = pd.read_csv(PATH + '/' + file)\n",
    "        df_light = df_light.append(temp)\n",
    "\n",
    "names = list(df_light.name)\n",
    "sessions = ['_'.join(name.split('_')[:-2]) for name in names]\n",
    "df_light['sessions'] = sessions\n",
    "df_light['light'] = True"
   ]
  },
  {
   "cell_type": "code",
   "execution_count": null,
   "metadata": {},
   "outputs": [],
   "source": [
    "PATH = 'clustersData_no_light/0'\n",
    "df_no_light = None\n",
    "files = os.listdir(PATH)\n",
    "for file in sorted(files):\n",
    "    if df_no_light is None:\n",
    "        df_no_light = pd.read_csv(PATH + '/' + file)\n",
    "    else:\n",
    "        temp = pd.read_csv(PATH + '/' + file)\n",
    "        df_no_light = df_no_light.append(temp)\n",
    "\n",
    "names = list(df_no_light.name)\n",
    "sessions = ['_'.join(name.split('_')[:-2]) for name in names]\n",
    "df_no_light['sessions'] = sessions\n",
    "df_no_light['light'] = False"
   ]
  },
  {
   "cell_type": "code",
   "execution_count": null,
   "metadata": {},
   "outputs": [],
   "source": [
    "df = df_light.append(df_no_light)"
   ]
  },
  {
   "cell_type": "code",
   "execution_count": null,
   "metadata": {},
   "outputs": [],
   "source": [
    "df.info()"
   ]
  },
  {
   "cell_type": "code",
   "execution_count": null,
   "metadata": {},
   "outputs": [],
   "source": [
    "pd.set_option('display.max_rows', 500)\n",
    "pd.set_option('display.max_columns', 500)\n",
    "pd.set_option('display.width', 1000)\n",
    "df.head()"
   ]
  },
  {
   "cell_type": "code",
   "execution_count": null,
   "metadata": {},
   "outputs": [],
   "source": [
    "df.describe()"
   ]
  },
  {
   "cell_type": "code",
   "execution_count": null,
   "metadata": {},
   "outputs": [],
   "source": [
    "df_all = df\n",
    "df = df[df.light == False]"
   ]
  },
  {
   "cell_type": "code",
   "execution_count": null,
   "metadata": {
    "scrolled": true
   },
   "outputs": [],
   "source": [
    "pd.crosstab(df['sessions'], df['label'])"
   ]
  },
  {
   "cell_type": "code",
   "execution_count": null,
   "metadata": {},
   "outputs": [],
   "source": [
    "pyrs = len(df.label[df.label == 1])\n",
    "ins = len(df.label[df.label == 0])\n",
    "uts = len(df.label[df.label < 0])\n",
    "print(pyrs)\n",
    "print(ins)\n",
    "print(uts)\n",
    "df = df.loc[df.label >= 0]"
   ]
  },
  {
   "cell_type": "code",
   "execution_count": null,
   "metadata": {},
   "outputs": [],
   "source": [
    "TARGET_COLUMN_NAME = 'label'\n",
    "# Select all numerical features.\n",
    "numerical_features = df.select_dtypes([\"float64\", \"int64\"])\n",
    "plot_df = numerical_features.astype(\"float64\")  # this is done to solve a problem in sns (see https://datascience.stackexchange.com/questions/55435/seaborn-violin-plot-error-no-loop-for-unfunc-add)\n",
    "\n",
    "# Create distribution plots.\n",
    "nrows = len(numerical_features.columns)\n",
    "fig, ax = plt.subplots(nrows=nrows, ncols=2, figsize=(20, 40))\n",
    "for i, feature in enumerate(numerical_features):\n",
    "    sns.violinplot(x=TARGET_COLUMN_NAME, y=feature, data=plot_df, ax=ax[i, 0])\n",
    "    if i == 0:\n",
    "        ax[i, 0].set_title(\"Violin Plots\")\n",
    "        ax[i, 1].set_title(\"Box Plots\")        \n",
    "    sns.boxplot(x=TARGET_COLUMN_NAME, y=feature, data=plot_df, ax=ax[i, 1])\n",
    "    ax[i, 0].set_xlabel(\"\")\n",
    "    ax[i, 1].set_xlabel(\"\")\n",
    "    ax[i, 1].set_ylabel(\"\")\n",
    "    ax[i, 0].set_ylabel(feature, rotation=45, labelpad=50)\n",
    "_ = fig.text(0.6, 0, \"cell type\", ha='center')\n",
    "_ = fig.suptitle(\"Numerical Feature Distributions\", y=1, x=0.6)\n",
    "fig.tight_layout()"
   ]
  },
  {
   "cell_type": "code",
   "execution_count": null,
   "metadata": {},
   "outputs": [],
   "source": [
    "correlation_matrix = df.corr()\n",
    "fig, ax = plt.subplots(figsize=(22, 22))\n",
    "_ = sns.heatmap(correlation_matrix, annot=True, fmt='.2f')"
   ]
  },
  {
   "cell_type": "code",
   "execution_count": null,
   "metadata": {},
   "outputs": [],
   "source": [
    "sns.pairplot(df, hue=\"label\")"
   ]
  },
  {
   "cell_type": "code",
   "execution_count": null,
   "metadata": {},
   "outputs": [],
   "source": []
  }
 ],
 "metadata": {
  "kernelspec": {
   "display_name": "Python 3",
   "language": "python",
   "name": "python3"
  },
  "language_info": {
   "codemirror_mode": {
    "name": "ipython",
    "version": 3
   },
   "file_extension": ".py",
   "mimetype": "text/x-python",
   "name": "python",
   "nbconvert_exporter": "python",
   "pygments_lexer": "ipython3",
   "version": "3.9.1"
  }
 },
 "nbformat": 4,
 "nbformat_minor": 5
}
